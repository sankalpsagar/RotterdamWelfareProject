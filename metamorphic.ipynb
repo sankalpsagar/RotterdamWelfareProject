{
 "cells": [
  {
   "cell_type": "code",
   "execution_count": 1,
   "metadata": {},
   "outputs": [],
   "source": [
    "import onnx\n",
    "import random\n",
    "import onnxruntime as rt\n",
    "import numpy as np\n",
    "import pandas as pd\n",
    "from sklearn.metrics import accuracy_score"
   ]
  },
  {
   "cell_type": "code",
   "execution_count": 2,
   "metadata": {},
   "outputs": [],
   "source": [
    "onnx_model_1 = onnx.load(\"C:/Users/lucky/OneDrive - University of Twente/Documenten/TU delft/testing/model_1.onnx\")\n",
    "onnx_model_2 = onnx.load(\"C:/Users/lucky/OneDrive - University of Twente/Documenten/TU delft/testing/model_2.onnx\")\n",
    "onnx.checker.check_model(\"C:/Users/lucky/OneDrive - University of Twente/Documenten/TU delft/testing/model_1.onnx\")"
   ]
  },
  {
   "cell_type": "code",
   "execution_count": 3,
   "metadata": {},
   "outputs": [],
   "source": [
    "sensitive_features = [\n",
    "    \"adres_dagen_op_adres\",\n",
    "    \"adres_recentste_buurt_groot_ijsselmonde\",\n",
    "    \"adres_recentste_buurt_nieuwe_westen\",\n",
    "    \"adres_recentste_buurt_other\",\n",
    "    \"adres_recentste_buurt_oude_noorden\",\n",
    "    \"adres_recentste_buurt_vreewijk\",\n",
    "    \"adres_recentste_plaats_other\",\n",
    "    \"adres_recentste_plaats_rotterdam\",\n",
    "    \"adres_recentste_wijk_charlois\",\n",
    "    \"adres_recentste_wijk_delfshaven\",\n",
    "    \"adres_recentste_wijk_feijenoord\",\n",
    "    \"adres_recentste_wijk_ijsselmonde\",\n",
    "    \"adres_recentste_wijk_kralingen_c\",\n",
    "    \"adres_recentste_wijk_noord\",\n",
    "    \"adres_recentste_wijk_other\",\n",
    "    \"adres_recentste_wijk_prins_alexa\",\n",
    "    \"adres_recentste_wijk_stadscentru\",\n",
    "    \"afspraak_aantal_woorden\",\n",
    "    \"afspraak_afgelopen_jaar_monitoring_insp__wet_taaleis_na_12_mnd_n_a_v__taa04_____geen_maatregel\",\n",
    "    \"afspraak_afgelopen_jaar_ontheffing_taaleis\",\n",
    "    \"afspraak_laatstejaar_aantal_woorden\",\n",
    "    \"afspraak_verzenden_beschikking_i_v_m__niet_voldoen_aan_wet_taaleis\",\n",
    "    \"belemmering_dagen_lichamelijke_problematiek\",\n",
    "    \"belemmering_dagen_psychische_problemen\",\n",
    "    \"belemmering_hist_lichamelijke_problematiek\",\n",
    "    \"belemmering_hist_psychische_problemen\",\n",
    "    \"belemmering_hist_taal\",\n",
    "    \"belemmering_hist_verslavingsproblematiek\",\n",
    "    \"belemmering_niet_computervaardig\",\n",
    "    \"belemmering_psychische_problemen\",\n",
    "    \"beschikbaarheid_aantal_historie_afwijkend_wegens_medische_omstandigheden\",\n",
    "    \"beschikbaarheid_huidig_afwijkend_wegens_medische_omstandigheden\",\n",
    "    \"beschikbaarheid_recent_afwijkend_wegens_medische_omstandigheden\",\n",
    "    \"competentie_vakdeskundigheid_toepassen\",\n",
    "    \"contacten_onderwerp_beoordelen_taaleis\",\n",
    "    \"contacten_onderwerp_boolean_beoordelen_taaleis\",\n",
    "    \"contacten_onderwerp_boolean_taaleis___voldoet\",\n",
    "    \"contacten_onderwerp_boolean_ziek__of_afmelding\",\n",
    "    \"contacten_onderwerp_boolean_zorg\",\n",
    "    \"contacten_onderwerp_ziek__of_afmelding\",\n",
    "    \"contacten_onderwerp_zorg\",\n",
    "    \"instrument_aantal_laatstejaar\",\n",
    "    \"ontheffing_dagen_hist_vanwege_uw_medische_omstandigheden\",\n",
    "    \"ontheffing_reden_hist_medische_gronden\",\n",
    "    \"persoon_geslacht_vrouw\",\n",
    "    \"persoon_leeftijd_bij_onderzoek\",\n",
    "    \"persoonlijke_eigenschappen_dagen_sinds_taaleis\",\n",
    "    \"persoonlijke_eigenschappen_nl_begrijpen3\",\n",
    "    \"persoonlijke_eigenschappen_nl_lezen3\",\n",
    "    \"persoonlijke_eigenschappen_nl_lezen4\",\n",
    "    \"persoonlijke_eigenschappen_nl_schrijven0\",\n",
    "    \"persoonlijke_eigenschappen_nl_schrijven1\",\n",
    "    \"persoonlijke_eigenschappen_nl_schrijven2\",\n",
    "    \"persoonlijke_eigenschappen_nl_schrijven3\",\n",
    "    \"persoonlijke_eigenschappen_nl_schrijvenfalse\",\n",
    "    \"persoonlijke_eigenschappen_nl_spreken1\",\n",
    "    \"persoonlijke_eigenschappen_nl_spreken2\",\n",
    "    \"persoonlijke_eigenschappen_nl_spreken3\",\n",
    "    \"persoonlijke_eigenschappen_spreektaal\",\n",
    "    \"persoonlijke_eigenschappen_spreektaal_anders\",\n",
    "    \"persoonlijke_eigenschappen_taaleis_schrijfv_ok\",\n",
    "    \"persoonlijke_eigenschappen_taaleis_voldaan\",\n",
    "    \"relatie_kind_basisschool_kind\",\n",
    "    \"relatie_kind_heeft_kinderen\",\n",
    "    \"relatie_kind_huidige_aantal\",\n",
    "    \"relatie_kind_jongvolwassen\",\n",
    "    \"relatie_kind_tiener\",\n",
    "    \"relatie_kind_volwassen\",\n",
    "    \"relatie_overig_actueel_vorm__kostendeler\",\n",
    "    \"relatie_overig_actueel_vorm__ouders_verzorgers\",\n",
    "    \"relatie_overig_historie_vorm__andere_inwonende\",\n",
    "    \"relatie_overig_historie_vorm__kostendeler\",\n",
    "    \"relatie_overig_kostendeler\",\n",
    "    \"relatie_partner_aantal_partner___partner__gehuwd_\",\n",
    "    \"relatie_partner_aantal_partner___partner__ongehuwd_\",\n",
    "    \"relatie_partner_huidige_partner___partner__gehuwd_\",\n",
    "    \"relatie_partner_totaal_dagen_partner\"\n",
    "]"
   ]
  },
  {
   "cell_type": "markdown",
   "metadata": {},
   "source": [
    "Make changes to the sensitive features, should not lead to changes in the actual output"
   ]
  },
  {
   "cell_type": "code",
   "execution_count": 4,
   "metadata": {},
   "outputs": [],
   "source": [
    "dataset = pd.read_csv(\"investigation_train_large_checked.csv\")\n",
    "dataset = dataset.drop(['Ja', 'Nee', 'checked'], axis=1)"
   ]
  },
  {
   "cell_type": "code",
   "execution_count": 5,
   "metadata": {},
   "outputs": [],
   "source": [
    "possible_sensitives = {}\n",
    "possible_nonsensitives = {}\n",
    "\n",
    "for feature in dataset.columns:\n",
    "    unique_values = dataset[feature].unique().tolist()\n",
    "    if feature in sensitive_features:\n",
    "        possible_sensitives[feature] = unique_values\n",
    "    else:\n",
    "        possible_nonsensitives[feature] = unique_values"
   ]
  },
  {
   "cell_type": "markdown",
   "metadata": {},
   "source": [
    "Two kinds of changes will be applied: sensitive changes. Sensitive changes should only have influence on the biased model, whereas natural changes should change both models."
   ]
  },
  {
   "cell_type": "code",
   "execution_count": 6,
   "metadata": {},
   "outputs": [],
   "source": [
    "class Individual:\n",
    "    def __init__(self, sensitives, nonsensitives):\n",
    "        self.sensitives = sensitives\n",
    "        self.nonsensitives = nonsensitives\n",
    "    \n",
    "    def fullfeatures(self):\n",
    "        #combine the sensitive and non sensitive features\n",
    "        return self.sensitives | self.nonsensitives"
   ]
  },
  {
   "cell_type": "markdown",
   "metadata": {},
   "source": [
    "The first experiment will keep the non-sensitive features the same and change the sensitive features"
   ]
  },
  {
   "cell_type": "code",
   "execution_count": 77,
   "metadata": {},
   "outputs": [],
   "source": [
    "\n",
    "def change_sensitive(non_sensitives, max_changes, analyse=False,sensitive_f = None):\n",
    "    #output two or more possibilities where the sensitive attribute is changed, depending on the feature\n",
    "    if analyse:\n",
    "        metamorphical_changes = []\n",
    "        sensitives = {}\n",
    "        for sensitive_feature in sensitive_features:\n",
    "            sensitives[sensitive_feature] = random.choice(possible_sensitives[sensitive_feature])\n",
    "        for i in range(max_changes):\n",
    "            sensitives[sensitive_f] = random.choice(possible_sensitives[sensitive_feature])\n",
    "            print(\"hi\")\n",
    "            metamorphical_changes.append(Individual(sensitives, non_sensitives))\n",
    "    else:\n",
    "        metamorphical_changes = []\n",
    "        for i in range(max_changes):\n",
    "            #generate random sensitive features\n",
    "            sensitives = {}\n",
    "            for sensitive_feature in sensitive_features:\n",
    "                sensitives[sensitive_feature] = random.choice(possible_sensitives[sensitive_feature])\n",
    "            #create and add individual\n",
    "            metamorphical_changes.append(Individual(sensitives, non_sensitives))\n",
    "    return metamorphical_changes"
   ]
  },
  {
   "cell_type": "code",
   "execution_count": 55,
   "metadata": {},
   "outputs": [],
   "source": [
    "nonsensitives_experiment = {}\n",
    "for nonsensitive_feature in possible_nonsensitives.keys():\n",
    "    nonsensitives_experiment[nonsensitive_feature] = random.choice(possible_nonsensitives[nonsensitive_feature])"
   ]
  },
  {
   "cell_type": "code",
   "execution_count": 56,
   "metadata": {},
   "outputs": [],
   "source": [
    "sensitive_changed_individuals = change_sensitive(nonsensitives_experiment,10)"
   ]
  },
  {
   "cell_type": "code",
   "execution_count": 15,
   "metadata": {},
   "outputs": [],
   "source": [
    "def build_input_data(sess, data):\n",
    "    \"\"\"\n",
    "    Builds the input_data dictionary for ONNX inference.\n",
    "\n",
    "    Parameters:\n",
    "    - sess: onnxruntime.InferenceSession, the ONNX model session.\n",
    "    - data: pandas.DataFrame or dict-like, the input data.\n",
    "\n",
    "    Returns:\n",
    "    - input_data: dict, formatted input data for the ONNX model.\n",
    "    \"\"\"\n",
    "    input_data = {}\n",
    "\n",
    "    for input_tensor in sess.get_inputs():\n",
    "        name = input_tensor.name\n",
    "        shape = input_tensor.shape  # Shape of the expected input (e.g., [None, 1])\n",
    "        data_type = input_tensor.type  # Expected data type (e.g., 'tensor(float)', 'tensor(string)')\n",
    "\n",
    "        # Extract the column from the input data\n",
    "        column_data = data[name]\n",
    "\n",
    "        # Ensure it's in the correct format\n",
    "        if \"float\" in data_type.lower():\n",
    "            input_data[name] = np.array(column_data).astype(np.float32).reshape(-1, shape[1] if len(shape) > 1 else 1)\n",
    "        elif \"string\" in data_type.lower():\n",
    "            input_data[name] = np.array(column_data).astype(str).reshape(-1, shape[1] if len(shape) > 1 else 1)\n",
    "        elif \"int64\" in data_type.lower():\n",
    "            input_data[name] = np.array(column_data).astype(np.int64).reshape(-1, shape[1] if len(shape) > 1 else 1)\n",
    "        else:\n",
    "            raise ValueError(f\"Unsupported data type for input '{name}': {data_type}\")\n",
    "\n",
    "    return input_data"
   ]
  },
  {
   "cell_type": "code",
   "execution_count": 57,
   "metadata": {},
   "outputs": [],
   "source": [
    "def evaluate(individual,session):\n",
    "    output_name = session.get_outputs()[1].name\n",
    "    value = individual.fullfeatures()\n",
    "    value = build_input_data(session, value)\n",
    "    result = session.run([output_name], value)[0]\n",
    "    #print(result[0][0], end=\" \")\n",
    "    return result[0][0]"
   ]
  },
  {
   "cell_type": "markdown",
   "metadata": {},
   "source": [
    "### Running it on the first model"
   ]
  },
  {
   "cell_type": "code",
   "execution_count": 45,
   "metadata": {},
   "outputs": [],
   "source": [
    "model_path = \"C:/Users/lucky/OneDrive - University of Twente/Documenten/TU delft/testing/model_1.onnx\""
   ]
  },
  {
   "cell_type": "code",
   "execution_count": 46,
   "metadata": {},
   "outputs": [],
   "source": [
    "sess = rt.InferenceSession(model_path)"
   ]
  },
  {
   "cell_type": "code",
   "execution_count": 58,
   "metadata": {},
   "outputs": [
    {
     "name": "stdout",
     "output_type": "stream",
     "text": [
      "0.2491212785243988\n",
      "0.4272572994232178\n",
      "0.5289983153343201\n",
      "0.10285833477973938\n",
      "0.1217508316040039\n",
      "0.8823624849319458\n",
      "0.4408609867095947\n",
      "0.8770847320556641\n",
      "0.48338988423347473\n",
      "0.23153480887413025\n"
     ]
    }
   ],
   "source": [
    "for individual in sensitive_changed_individuals:\n",
    "    print(evaluate(individual,sess))"
   ]
  },
  {
   "cell_type": "markdown",
   "metadata": {},
   "source": [
    "### Running it on the second model"
   ]
  },
  {
   "cell_type": "code",
   "execution_count": 48,
   "metadata": {},
   "outputs": [],
   "source": [
    "model_path = \"C:/Users/lucky/OneDrive - University of Twente/Documenten/TU delft/testing/model_2.onnx\""
   ]
  },
  {
   "cell_type": "code",
   "execution_count": 74,
   "metadata": {},
   "outputs": [],
   "source": [
    "sess_fair = rt.InferenceSession(model_path)"
   ]
  },
  {
   "cell_type": "code",
   "execution_count": 75,
   "metadata": {},
   "outputs": [
    {
     "name": "stdout",
     "output_type": "stream",
     "text": [
      "0.5400000214576721\n",
      "0.5400000214576721\n",
      "0.5400000214576721\n",
      "0.5400000214576721\n",
      "0.5400000214576721\n",
      "0.5400000214576721\n",
      "0.5400000214576721\n",
      "0.5400000214576721\n",
      "0.5400000214576721\n",
      "0.5400000214576721\n"
     ]
    }
   ],
   "source": [
    "for individual in sensitive_changed_individuals:\n",
    "    print(evaluate(individual,sess_fair))"
   ]
  },
  {
   "cell_type": "markdown",
   "metadata": {},
   "source": [
    "Who would have thought the second model seems to be more fair"
   ]
  },
  {
   "cell_type": "markdown",
   "metadata": {},
   "source": [
    "### Now let's look at specific examples"
   ]
  },
  {
   "cell_type": "code",
   "execution_count": 69,
   "metadata": {},
   "outputs": [],
   "source": [
    "sensitive_f = 'persoon_geslacht_vrouw'"
   ]
  },
  {
   "cell_type": "code",
   "execution_count": 80,
   "metadata": {},
   "outputs": [
    {
     "name": "stdout",
     "output_type": "stream",
     "text": [
      "hi\n",
      "hi\n",
      "hi\n",
      "hi\n",
      "hi\n",
      "hi\n",
      "hi\n",
      "hi\n",
      "hi\n",
      "hi\n"
     ]
    }
   ],
   "source": [
    "\n",
    "analyse_individuals = change_sensitive(nonsensitives_experiment,10,analyse=True,sensitive_f=sensitive_f)"
   ]
  },
  {
   "cell_type": "code",
   "execution_count": 82,
   "metadata": {},
   "outputs": [],
   "source": [
    "def analyse(individual, feature):\n",
    "    for sensitive in individual.sensitives:\n",
    "        if feature in sensitive:\n",
    "            print(\"the sensitive feature: \", sensitive)\n",
    "            print(\"The value: \", individual.sensitives[sensitive])"
   ]
  },
  {
   "cell_type": "code",
   "execution_count": 83,
   "metadata": {},
   "outputs": [
    {
     "name": "stdout",
     "output_type": "stream",
     "text": [
      "the sensitive feature:  persoon_geslacht_vrouw\n",
      "The value:  24\n",
      "0.5400000214576721\n",
      "the sensitive feature:  persoon_geslacht_vrouw\n",
      "The value:  24\n",
      "0.5400000214576721\n",
      "the sensitive feature:  persoon_geslacht_vrouw\n",
      "The value:  24\n",
      "0.5400000214576721\n",
      "the sensitive feature:  persoon_geslacht_vrouw\n",
      "The value:  24\n",
      "0.5400000214576721\n",
      "the sensitive feature:  persoon_geslacht_vrouw\n",
      "The value:  24\n",
      "0.5400000214576721\n",
      "the sensitive feature:  persoon_geslacht_vrouw\n",
      "The value:  24\n",
      "0.5400000214576721\n",
      "the sensitive feature:  persoon_geslacht_vrouw\n",
      "The value:  24\n",
      "0.5400000214576721\n",
      "the sensitive feature:  persoon_geslacht_vrouw\n",
      "The value:  24\n",
      "0.5400000214576721\n",
      "the sensitive feature:  persoon_geslacht_vrouw\n",
      "The value:  24\n",
      "0.5400000214576721\n",
      "the sensitive feature:  persoon_geslacht_vrouw\n",
      "The value:  24\n",
      "0.5400000214576721\n"
     ]
    }
   ],
   "source": [
    "for individual in analyse_individuals:\n",
    "    analyse(individual,sensitive_f)\n",
    "    print(evaluate(individual,sess_fair))"
   ]
  },
  {
   "cell_type": "code",
   "execution_count": 84,
   "metadata": {},
   "outputs": [
    {
     "name": "stdout",
     "output_type": "stream",
     "text": [
      "the sensitive feature:  persoon_geslacht_vrouw\n",
      "The value:  1\n",
      "0.2491212785243988\n",
      "the sensitive feature:  persoon_geslacht_vrouw\n",
      "The value:  1\n",
      "0.4272572994232178\n",
      "the sensitive feature:  persoon_geslacht_vrouw\n",
      "The value:  1\n",
      "0.5289983153343201\n",
      "the sensitive feature:  persoon_geslacht_vrouw\n",
      "The value:  0\n",
      "0.10285833477973938\n",
      "the sensitive feature:  persoon_geslacht_vrouw\n",
      "The value:  1\n",
      "0.1217508316040039\n",
      "the sensitive feature:  persoon_geslacht_vrouw\n",
      "The value:  0\n",
      "0.8823624849319458\n",
      "the sensitive feature:  persoon_geslacht_vrouw\n",
      "The value:  1\n",
      "0.4408609867095947\n",
      "the sensitive feature:  persoon_geslacht_vrouw\n",
      "The value:  1\n",
      "0.8770847320556641\n",
      "the sensitive feature:  persoon_geslacht_vrouw\n",
      "The value:  1\n",
      "0.48338988423347473\n",
      "the sensitive feature:  persoon_geslacht_vrouw\n",
      "The value:  0\n",
      "0.23153480887413025\n"
     ]
    }
   ],
   "source": [
    "for individual in sensitive_changed_individuals:\n",
    "    analyse(individual,sensitive_f)\n",
    "    print(evaluate(individual,sess))"
   ]
  }
 ],
 "metadata": {
  "kernelspec": {
   "display_name": "labs",
   "language": "python",
   "name": "python3"
  },
  "language_info": {
   "codemirror_mode": {
    "name": "ipython",
    "version": 3
   },
   "file_extension": ".py",
   "mimetype": "text/x-python",
   "name": "python",
   "nbconvert_exporter": "python",
   "pygments_lexer": "ipython3",
   "version": "3.12.3"
  }
 },
 "nbformat": 4,
 "nbformat_minor": 2
}
