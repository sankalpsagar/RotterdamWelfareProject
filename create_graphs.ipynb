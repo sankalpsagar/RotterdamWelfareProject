{
 "cells": [
  {
   "cell_type": "code",
   "execution_count": 12,
   "outputs": [],
   "source": [
    "import csv\n",
    "import os\n",
    "import matplotlib.pyplot as plt\n",
    "import numpy as np\n",
    "import pandas as pd"
   ],
   "metadata": {
    "collapsed": false,
    "ExecuteTime": {
     "end_time": "2025-01-16T10:20:22.676304600Z",
     "start_time": "2025-01-16T10:20:22.111237900Z"
    }
   },
   "id": "d38d6da0e7467227"
  },
  {
   "cell_type": "code",
   "execution_count": 16,
   "outputs": [],
   "source": [
    "df_read = pd.read_csv(\"sp_dict_model1.csv\")\n",
    "\n",
    "sp_dict_model1 = {\n",
    "    (row[\"Feature\"], row[\"Category\"]): row[\"Value\"]\n",
    "    for _, row in df_read.iterrows()\n",
    "}\n",
    "\n",
    "\n",
    "df_read = pd.read_csv(\"sp_dict_model2.csv\")\n",
    "\n",
    "sp_dict_model2 = {\n",
    "    (row[\"Feature\"], row[\"Category\"]): row[\"Value\"]\n",
    "    for _, row in df_read.iterrows()\n",
    "}\n",
    "\n"
   ],
   "metadata": {
    "collapsed": false,
    "ExecuteTime": {
     "end_time": "2025-01-16T10:22:32.411552Z",
     "start_time": "2025-01-16T10:22:32.390708500Z"
    }
   },
   "id": "876fbfffc3d6c5da"
  },
  {
   "cell_type": "code",
   "execution_count": 20,
   "outputs": [
    {
     "name": "stdout",
     "output_type": "stream",
     "text": [
      "All difference bar charts saved in 'statistical_parity_charts' folder.\n"
     ]
    }
   ],
   "source": [
    "#statistical parity\n",
    "output_folder = \"statistical_parity_charts\"\n",
    "os.makedirs(output_folder, exist_ok=True)\n",
    "\n",
    "features = set(k[0] for k in sp_dict_model1.keys())\n",
    "\n",
    "for feature in features:\n",
    "    categories = set(\n",
    "        key[1] for key in sp_dict_model1.keys() if key[0] == feature\n",
    "    ).union(\n",
    "        key[1] for key in sp_dict_model2.keys() if key[0] == feature\n",
    "    )\n",
    "\n",
    "    if len(categories) == 2:\n",
    "        categories = sorted(categories, key=lambda x: str(x)) \n",
    "        cat1, cat2 = categories\n",
    "\n",
    "        model1_cat1 = sp_dict_model1.get((feature, cat1), 0)\n",
    "        model1_cat2 = sp_dict_model1.get((feature, cat2), 0)\n",
    "        model2_cat1 = sp_dict_model2.get((feature, cat1), 0)\n",
    "        model2_cat2 = sp_dict_model2.get((feature, cat2), 0)\n",
    "\n",
    "        model1_diff = abs(model1_cat2 - model1_cat1)\n",
    "        model2_diff = abs(model2_cat2 - model2_cat1)\n",
    "\n",
    "        labels = [\"Model 1\", \"Model 2\"]\n",
    "        values = [model1_diff, model2_diff]\n",
    "\n",
    "        x = np.arange(len(labels)) \n",
    "\n",
    "        plt.figure(figsize=(6, 4))\n",
    "        plt.bar(x, values, width=0.4, color=['blue', 'orange'])\n",
    "\n",
    "\n",
    "        plt.xlabel(\"Models\")\n",
    "        plt.ylabel(f\"Difference ({cat2} - {cat1})\")\n",
    "        plt.title(f\"Difference Comparison for {feature}\")\n",
    "        plt.xticks(x, labels)  \n",
    "\n",
    "        file_path = os.path.join(output_folder, f\"{feature}.png\")\n",
    "        plt.savefig(file_path, bbox_inches='tight')\n",
    "        plt.close()\n",
    "\n",
    "print(f\"All difference bar charts saved in '{output_folder}' folder.\")\n"
   ],
   "metadata": {
    "collapsed": false,
    "ExecuteTime": {
     "end_time": "2025-01-16T10:32:51.975791800Z",
     "start_time": "2025-01-16T10:32:43.076559600Z"
    }
   },
   "id": "f31f99160acf5800"
  },
  {
   "cell_type": "markdown",
   "source": [
    "Partition Testing"
   ],
   "metadata": {
    "collapsed": false
   },
   "id": "697316f2729ab994"
  },
  {
   "cell_type": "code",
   "execution_count": 40,
   "outputs": [],
   "source": [
    "csv_filename = \"partition_testing/statistical_parity_speaking_maritalStatus_model1.csv\" \n",
    "df = pd.read_csv(csv_filename)\n",
    "\n",
    "sp_parition_model1 = dict(zip(df[\"Comparison\"], df[\"Difference\"]))\n",
    "\n",
    "\n",
    "csv_filename = \"partition_testing/statistical_parity_speaking_maritalStatus_model2.csv\"  \n",
    "\n",
    "df = pd.read_csv(csv_filename)\n",
    "\n",
    "sp_parition_model2 = dict(zip(df[\"Comparison\"], df[\"Difference\"]))\n"
   ],
   "metadata": {
    "collapsed": false,
    "ExecuteTime": {
     "end_time": "2025-01-17T01:38:15.718773100Z",
     "start_time": "2025-01-17T01:38:15.608612200Z"
    }
   },
   "id": "be74337eb1187094"
  },
  {
   "cell_type": "code",
   "execution_count": 41,
   "outputs": [
    {
     "name": "stdout",
     "output_type": "stream",
     "text": [
      "Bar chart saved in: partition_testing/speaking_maritalStatus\\comparison_difference_barchart.png\n"
     ]
    }
   ],
   "source": [
    "#Statistical Parity\n",
    "output_folder = \"partition_testing/speaking_maritalStatus\"\n",
    "os.makedirs(output_folder, exist_ok=True)\n",
    "\n",
    "keys = list(sp_parition_model1.keys())\n",
    "\n",
    "values1 = [sp_parition_model1[key] for key in keys]\n",
    "values2 = [sp_parition_model2[key] for key in keys]\n",
    "\n",
    "x = np.arange(len(keys))\n",
    "width = 0.3 \n",
    "\n",
    "plt.figure(figsize=(10, 5))\n",
    "plt.bar(x - width/2, values1, width, label=\"Model 1\", color='blue')\n",
    "plt.bar(x + width/2, values2, width, label=\"Model 2\", color='orange')\n",
    "\n",
    "plt.xlabel(\"Comparisons\")\n",
    "plt.ylabel(\"Difference Value\")\n",
    "plt.title(\"Comparison of Difference Values Between Two Models\")\n",
    "plt.xticks(x, keys, rotation=30, ha=\"right\")  # Rotate labels for readability\n",
    "plt.legend()\n",
    "\n",
    "\n",
    "save_path = os.path.join(output_folder, \"comparison_difference_barchart.png\")\n",
    "plt.savefig(save_path, bbox_inches='tight')\n",
    "plt.close()\n",
    "\n",
    "print(f\"Bar chart saved in: {save_path}\")\n"
   ],
   "metadata": {
    "collapsed": false,
    "ExecuteTime": {
     "end_time": "2025-01-17T01:38:28.618183Z",
     "start_time": "2025-01-17T01:38:27.767383400Z"
    }
   },
   "id": "d1aed980c14abcb"
  },
  {
   "cell_type": "code",
   "execution_count": null,
   "outputs": [],
   "source": [],
   "metadata": {
    "collapsed": false
   },
   "id": "ec85c38d846fa965"
  }
 ],
 "metadata": {
  "kernelspec": {
   "display_name": "Python 3",
   "language": "python",
   "name": "python3"
  },
  "language_info": {
   "codemirror_mode": {
    "name": "ipython",
    "version": 2
   },
   "file_extension": ".py",
   "mimetype": "text/x-python",
   "name": "python",
   "nbconvert_exporter": "python",
   "pygments_lexer": "ipython2",
   "version": "2.7.6"
  }
 },
 "nbformat": 4,
 "nbformat_minor": 5
}
