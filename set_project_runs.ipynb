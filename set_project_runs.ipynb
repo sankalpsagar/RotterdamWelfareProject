{
 "cells": [
  {
   "cell_type": "code",
   "execution_count": 1,
   "metadata": {},
   "outputs": [],
   "source": [
    "import pandas as pd\n",
    "import numpy as np\n",
    "import matplotlib.pyplot as plt\n",
    "from sklearn.model_selection import train_test_split\n",
    "from sklearn.preprocessing import StandardScaler\n",
    "from sklearn.svm import SVC\n",
    "from sklearn.metrics import classification_report, accuracy_score\n",
    "import joblib\n",
    "from sklearn.tree import DecisionTreeClassifier\n",
    "import tqdm"
   ]
  },
  {
   "cell_type": "code",
   "execution_count": 27,
   "metadata": {},
   "outputs": [],
   "source": [
    "sensitive_groups = {'Sex': ['persoon_geslacht_vrouw'],\n",
    "                    'Nationality': ['persoonlijke_eigenschappen_dagen_sinds_taaleis', 'persoonlijke_eigenschappen_taaleis_schrijfv_ok', 'persoonlijke_eigenschappen_taaleis_voldaan', 'persoonlijke_eigenschappen_nl_begrijpen3', 'persoonlijke_eigenschappen_nl_lezen3', \n",
    "                                    'persoonlijke_eigenschappen_nl_lezen4', 'persoonlijke_eigenschappen_nl_schrijven0', 'persoonlijke_eigenschappen_nl_schrijven1', 'persoonlijke_eigenschappen_nl_schrijven2', 'persoonlijke_eigenschappen_nl_schrijven3', 'persoonlijke_eigenschappen_nl_schrijvenfalse',\n",
    "                                    'persoonlijke_eigenschappen_nl_spreken1', 'persoonlijke_eigenschappen_nl_spreken2', 'persoonlijke_eigenschappen_nl_spreken3', 'belemmering_hist_taal', 'contacten_onderwerp_boolean_taaleis___voldoet', 'persoonlijke_eigenschappen_spreektaal', \n",
    "                                    'persoonlijke_eigenschappen_spreektaal_anders', 'contacten_onderwerp_boolean_beoordelen_taaleis'], \n",
    "                    'Marital Status': ['relatie_partner_huidige_partner___partner__gehuwd_', 'relatie_partner_totaal_dagen_partner'],\n",
    "                    'Disablity': ['ontheffing_dagen_hist_vanwege_uw_medische_omstandigheden','ontheffing_reden_hist_medische_gronden'], \n",
    "                    'Age': ['persoon_leeftijd_bij_onderzoek']}"
   ]
  },
  {
   "cell_type": "code",
   "execution_count": 3,
   "metadata": {},
   "outputs": [],
   "source": [
    "X_test_complete_thr = joblib.load(\"X_test_complete_thr.pkl\")\n",
    "y_test_complete_thr = joblib.load(\"y_test_complete_thr.pkl\")"
   ]
  },
  {
   "cell_type": "code",
   "execution_count": 28,
   "metadata": {},
   "outputs": [],
   "source": [
    "scaler = StandardScaler()"
   ]
  },
  {
   "cell_type": "code",
   "execution_count": 29,
   "metadata": {},
   "outputs": [],
   "source": [
    "df = pd.read_csv(\"investigation_train_large_checked.csv\", na_values='?')"
   ]
  },
  {
   "cell_type": "code",
   "execution_count": 30,
   "metadata": {},
   "outputs": [],
   "source": [
    "X = df.drop(['checked', 'Ja', 'Nee'],  axis=1)\n",
    "y = df['checked']\n",
    "\n",
    "X_train, X_test, y_train, y_test = train_test_split(X, y, test_size=0.25, random_state=42)\n",
    "\n",
    "X_train_scaled = scaler.fit_transform(X_train)\n",
    "X_test_scaled = scaler.transform(X_test)"
   ]
  },
  {
   "cell_type": "code",
   "execution_count": 12,
   "metadata": {},
   "outputs": [
    {
     "name": "stdout",
     "output_type": "stream",
     "text": [
      "              precision    recall  f1-score   support\n",
      "\n",
      "       False       0.91      0.99      0.95     13834\n",
      "        True       0.85      0.45      0.59      2416\n",
      "\n",
      "    accuracy                           0.91     16250\n",
      "   macro avg       0.88      0.72      0.77     16250\n",
      "weighted avg       0.90      0.91      0.89     16250\n",
      "\n",
      "0.9065230769230769\n"
     ]
    },
    {
     "data": {
      "text/plain": [
       "['svm_basic.pkl']"
      ]
     },
     "execution_count": 12,
     "metadata": {},
     "output_type": "execute_result"
    }
   ],
   "source": [
    "svm_basic = SVC(probability=False) #remove probability=True if we do not want thresholding. It will train faster.\n",
    "svm_basic.fit(X_train_scaled, y_train)\n",
    "predict_basic = svm_basic.predict(X_test_complete_thr)\n",
    "print(classification_report(y_test_complete_thr, predict_basic))\n",
    "print(accuracy_score(y_test_complete_thr, predict_basic))\n",
    "joblib.dump(svm_basic, \"svm_basic.pkl\")"
   ]
  },
  {
   "cell_type": "code",
   "execution_count": 31,
   "metadata": {},
   "outputs": [],
   "source": [
    "df_features_zeroed = df.copy()\n",
    "for column in df_features_zeroed.columns:\n",
    "    for vals in sensitive_groups.values():\n",
    "        if column in vals:\n",
    "            df_features_zeroed[column] = df_features_zeroed[column] * 0\n",
    "        \n",
    "X_features_zeroed = df_features_zeroed.drop(['checked', 'Ja', 'Nee'],  axis=1)\n",
    "y_features_zeroed = df_features_zeroed['checked']\n",
    "        \n",
    "X_train_fz, X_test_fz, y_train_fz, y_test_fz = train_test_split(X_features_zeroed, y_features_zeroed, test_size=0.25, random_state=42)\n",
    "\n",
    "X_train_scaled_fz = scaler.fit_transform(X_train_fz)\n",
    "X_test_scaled_fz = scaler.transform(X_test_fz)"
   ]
  },
  {
   "cell_type": "code",
   "execution_count": 14,
   "metadata": {},
   "outputs": [
    {
     "name": "stdout",
     "output_type": "stream",
     "text": [
      "              precision    recall  f1-score   support\n",
      "\n",
      "       False       0.93      0.98      0.95     13834\n",
      "        True       0.82      0.55      0.66      2416\n",
      "\n",
      "    accuracy                           0.92     16250\n",
      "   macro avg       0.87      0.76      0.80     16250\n",
      "weighted avg       0.91      0.92      0.91     16250\n",
      "\n",
      "0.9150769230769231\n"
     ]
    },
    {
     "data": {
      "text/plain": [
       "['svm_features_zero.pkl']"
      ]
     },
     "execution_count": 14,
     "metadata": {},
     "output_type": "execute_result"
    }
   ],
   "source": [
    "svm_features_zero = SVC(probability=False) #remove probability=True if we do not want thresholding. It will train faster.\n",
    "svm_features_zero.fit(X_train_scaled_fz, y_train_fz)\n",
    "predict_features_zero = svm_features_zero.predict(X_test_complete_thr)\n",
    "print(classification_report(y_test_complete_thr, predict_features_zero))\n",
    "print(accuracy_score(y_test_complete_thr, predict_features_zero))\n",
    "joblib.dump(svm_features_zero, \"svm_features_zero.pkl\")"
   ]
  },
  {
   "cell_type": "code",
   "execution_count": 32,
   "metadata": {},
   "outputs": [
    {
     "data": {
      "text/html": [
       "<div>\n",
       "<style scoped>\n",
       "    .dataframe tbody tr th:only-of-type {\n",
       "        vertical-align: middle;\n",
       "    }\n",
       "\n",
       "    .dataframe tbody tr th {\n",
       "        vertical-align: top;\n",
       "    }\n",
       "\n",
       "    .dataframe thead th {\n",
       "        text-align: right;\n",
       "    }\n",
       "</style>\n",
       "<table border=\"1\" class=\"dataframe\">\n",
       "  <thead>\n",
       "    <tr style=\"text-align: right;\">\n",
       "      <th></th>\n",
       "      <th>adres_aantal_brp_adres</th>\n",
       "      <th>adres_aantal_verschillende_wijken</th>\n",
       "      <th>adres_aantal_verzendadres</th>\n",
       "      <th>adres_aantal_woonadres_handmatig</th>\n",
       "      <th>adres_dagen_op_adres</th>\n",
       "      <th>adres_recentst_onderdeel_rdam</th>\n",
       "      <th>adres_recentste_buurt_groot_ijsselmonde</th>\n",
       "      <th>adres_recentste_buurt_nieuwe_westen</th>\n",
       "      <th>adres_recentste_buurt_other</th>\n",
       "      <th>adres_recentste_buurt_oude_noorden</th>\n",
       "      <th>...</th>\n",
       "      <th>typering_hist_ind</th>\n",
       "      <th>typering_hist_sector_zorg</th>\n",
       "      <th>typering_ind</th>\n",
       "      <th>typering_indicatie_geheime_gegevens</th>\n",
       "      <th>typering_other</th>\n",
       "      <th>typering_transport__logistiek___tuinbouw</th>\n",
       "      <th>typering_zorg__schoonmaak___welzijn</th>\n",
       "      <th>Ja</th>\n",
       "      <th>Nee</th>\n",
       "      <th>checked</th>\n",
       "    </tr>\n",
       "  </thead>\n",
       "  <tbody>\n",
       "    <tr>\n",
       "      <th>0</th>\n",
       "      <td>2</td>\n",
       "      <td>1</td>\n",
       "      <td>0</td>\n",
       "      <td>1</td>\n",
       "      <td>17740</td>\n",
       "      <td>1</td>\n",
       "      <td>0</td>\n",
       "      <td>0</td>\n",
       "      <td>0</td>\n",
       "      <td>0</td>\n",
       "      <td>...</td>\n",
       "      <td>1</td>\n",
       "      <td>0</td>\n",
       "      <td>1</td>\n",
       "      <td>0</td>\n",
       "      <td>1</td>\n",
       "      <td>0</td>\n",
       "      <td>0</td>\n",
       "      <td>0.732221</td>\n",
       "      <td>0.267779</td>\n",
       "      <td>True</td>\n",
       "    </tr>\n",
       "    <tr>\n",
       "      <th>1</th>\n",
       "      <td>4</td>\n",
       "      <td>2</td>\n",
       "      <td>0</td>\n",
       "      <td>0</td>\n",
       "      <td>473</td>\n",
       "      <td>1</td>\n",
       "      <td>0</td>\n",
       "      <td>0</td>\n",
       "      <td>0</td>\n",
       "      <td>0</td>\n",
       "      <td>...</td>\n",
       "      <td>1</td>\n",
       "      <td>0</td>\n",
       "      <td>0</td>\n",
       "      <td>0</td>\n",
       "      <td>0</td>\n",
       "      <td>0</td>\n",
       "      <td>0</td>\n",
       "      <td>0.379286</td>\n",
       "      <td>0.620714</td>\n",
       "      <td>False</td>\n",
       "    </tr>\n",
       "    <tr>\n",
       "      <th>2</th>\n",
       "      <td>2</td>\n",
       "      <td>1</td>\n",
       "      <td>0</td>\n",
       "      <td>1</td>\n",
       "      <td>3498</td>\n",
       "      <td>1</td>\n",
       "      <td>0</td>\n",
       "      <td>0</td>\n",
       "      <td>0</td>\n",
       "      <td>0</td>\n",
       "      <td>...</td>\n",
       "      <td>1</td>\n",
       "      <td>0</td>\n",
       "      <td>0</td>\n",
       "      <td>0</td>\n",
       "      <td>0</td>\n",
       "      <td>0</td>\n",
       "      <td>0</td>\n",
       "      <td>0.449903</td>\n",
       "      <td>0.550097</td>\n",
       "      <td>False</td>\n",
       "    </tr>\n",
       "    <tr>\n",
       "      <th>3</th>\n",
       "      <td>5</td>\n",
       "      <td>3</td>\n",
       "      <td>0</td>\n",
       "      <td>1</td>\n",
       "      <td>5441</td>\n",
       "      <td>1</td>\n",
       "      <td>0</td>\n",
       "      <td>0</td>\n",
       "      <td>0</td>\n",
       "      <td>0</td>\n",
       "      <td>...</td>\n",
       "      <td>1</td>\n",
       "      <td>0</td>\n",
       "      <td>1</td>\n",
       "      <td>0</td>\n",
       "      <td>0</td>\n",
       "      <td>0</td>\n",
       "      <td>0</td>\n",
       "      <td>0.480557</td>\n",
       "      <td>0.519443</td>\n",
       "      <td>False</td>\n",
       "    </tr>\n",
       "    <tr>\n",
       "      <th>4</th>\n",
       "      <td>1</td>\n",
       "      <td>1</td>\n",
       "      <td>0</td>\n",
       "      <td>0</td>\n",
       "      <td>22522</td>\n",
       "      <td>1</td>\n",
       "      <td>0</td>\n",
       "      <td>0</td>\n",
       "      <td>1</td>\n",
       "      <td>0</td>\n",
       "      <td>...</td>\n",
       "      <td>1</td>\n",
       "      <td>0</td>\n",
       "      <td>0</td>\n",
       "      <td>0</td>\n",
       "      <td>0</td>\n",
       "      <td>0</td>\n",
       "      <td>0</td>\n",
       "      <td>0.540390</td>\n",
       "      <td>0.459610</td>\n",
       "      <td>False</td>\n",
       "    </tr>\n",
       "  </tbody>\n",
       "</table>\n",
       "<p>5 rows × 318 columns</p>\n",
       "</div>"
      ],
      "text/plain": [
       "   adres_aantal_brp_adres  adres_aantal_verschillende_wijken  \\\n",
       "0                       2                                  1   \n",
       "1                       4                                  2   \n",
       "2                       2                                  1   \n",
       "3                       5                                  3   \n",
       "4                       1                                  1   \n",
       "\n",
       "   adres_aantal_verzendadres  adres_aantal_woonadres_handmatig  \\\n",
       "0                          0                                 1   \n",
       "1                          0                                 0   \n",
       "2                          0                                 1   \n",
       "3                          0                                 1   \n",
       "4                          0                                 0   \n",
       "\n",
       "   adres_dagen_op_adres  adres_recentst_onderdeel_rdam  \\\n",
       "0                 17740                              1   \n",
       "1                   473                              1   \n",
       "2                  3498                              1   \n",
       "3                  5441                              1   \n",
       "4                 22522                              1   \n",
       "\n",
       "   adres_recentste_buurt_groot_ijsselmonde  \\\n",
       "0                                        0   \n",
       "1                                        0   \n",
       "2                                        0   \n",
       "3                                        0   \n",
       "4                                        0   \n",
       "\n",
       "   adres_recentste_buurt_nieuwe_westen  adres_recentste_buurt_other  \\\n",
       "0                                    0                            0   \n",
       "1                                    0                            0   \n",
       "2                                    0                            0   \n",
       "3                                    0                            0   \n",
       "4                                    0                            1   \n",
       "\n",
       "   adres_recentste_buurt_oude_noorden  ...  typering_hist_ind  \\\n",
       "0                                   0  ...                  1   \n",
       "1                                   0  ...                  1   \n",
       "2                                   0  ...                  1   \n",
       "3                                   0  ...                  1   \n",
       "4                                   0  ...                  1   \n",
       "\n",
       "   typering_hist_sector_zorg  typering_ind  \\\n",
       "0                          0             1   \n",
       "1                          0             0   \n",
       "2                          0             0   \n",
       "3                          0             1   \n",
       "4                          0             0   \n",
       "\n",
       "   typering_indicatie_geheime_gegevens  typering_other  \\\n",
       "0                                    0               1   \n",
       "1                                    0               0   \n",
       "2                                    0               0   \n",
       "3                                    0               0   \n",
       "4                                    0               0   \n",
       "\n",
       "   typering_transport__logistiek___tuinbouw  \\\n",
       "0                                         0   \n",
       "1                                         0   \n",
       "2                                         0   \n",
       "3                                         0   \n",
       "4                                         0   \n",
       "\n",
       "   typering_zorg__schoonmaak___welzijn        Ja       Nee  checked  \n",
       "0                                    0  0.732221  0.267779     True  \n",
       "1                                    0  0.379286  0.620714    False  \n",
       "2                                    0  0.449903  0.550097    False  \n",
       "3                                    0  0.480557  0.519443    False  \n",
       "4                                    0  0.540390  0.459610    False  \n",
       "\n",
       "[5 rows x 318 columns]"
      ]
     },
     "execution_count": 32,
     "metadata": {},
     "output_type": "execute_result"
    }
   ],
   "source": [
    "synth_data = pd.read_csv(\"C:/Academics/TU Delft/Quarter 2/Software Engineering and Testing for AI Systems/Social-Welfare-Dataset/data/01_raw/synth_data_train_labeled.csv\")\n",
    "synth_data[\"checked\"] = (synth_data[\"Ja\"] > 0.7).astype(bool)\n",
    "synth_data.head()"
   ]
  },
  {
   "cell_type": "code",
   "execution_count": 33,
   "metadata": {},
   "outputs": [],
   "source": [
    "filtered_good_data = pd.DataFrame(synth_data.loc[((synth_data['checked']==True) & (synth_data['persoonlijke_eigenschappen_taaleis_schrijfv_ok']==1)) | ((synth_data['checked'] == True) & (synth_data['persoon_leeftijd_bij_onderzoek']>=30))])"
   ]
  },
  {
   "cell_type": "code",
   "execution_count": 16,
   "metadata": {},
   "outputs": [
    {
     "data": {
      "text/html": [
       "<div>\n",
       "<style scoped>\n",
       "    .dataframe tbody tr th:only-of-type {\n",
       "        vertical-align: middle;\n",
       "    }\n",
       "\n",
       "    .dataframe tbody tr th {\n",
       "        vertical-align: top;\n",
       "    }\n",
       "\n",
       "    .dataframe thead th {\n",
       "        text-align: right;\n",
       "    }\n",
       "</style>\n",
       "<table border=\"1\" class=\"dataframe\">\n",
       "  <thead>\n",
       "    <tr style=\"text-align: right;\">\n",
       "      <th></th>\n",
       "      <th>adres_aantal_brp_adres</th>\n",
       "      <th>adres_aantal_verschillende_wijken</th>\n",
       "      <th>adres_aantal_verzendadres</th>\n",
       "      <th>adres_aantal_woonadres_handmatig</th>\n",
       "      <th>adres_dagen_op_adres</th>\n",
       "      <th>adres_recentst_onderdeel_rdam</th>\n",
       "      <th>adres_recentste_buurt_groot_ijsselmonde</th>\n",
       "      <th>adres_recentste_buurt_nieuwe_westen</th>\n",
       "      <th>adres_recentste_buurt_other</th>\n",
       "      <th>adres_recentste_buurt_oude_noorden</th>\n",
       "      <th>...</th>\n",
       "      <th>typering_hist_inburgeringsbehoeftig</th>\n",
       "      <th>typering_hist_ind</th>\n",
       "      <th>typering_hist_sector_zorg</th>\n",
       "      <th>typering_ind</th>\n",
       "      <th>typering_indicatie_geheime_gegevens</th>\n",
       "      <th>typering_other</th>\n",
       "      <th>typering_transport__logistiek___tuinbouw</th>\n",
       "      <th>typering_zorg__schoonmaak___welzijn</th>\n",
       "      <th>Ja</th>\n",
       "      <th>Nee</th>\n",
       "    </tr>\n",
       "  </thead>\n",
       "  <tbody>\n",
       "    <tr>\n",
       "      <th>count</th>\n",
       "      <td>6572.000000</td>\n",
       "      <td>6572.000000</td>\n",
       "      <td>6572.000000</td>\n",
       "      <td>6572.000000</td>\n",
       "      <td>6572.000000</td>\n",
       "      <td>6572.000000</td>\n",
       "      <td>6572.000000</td>\n",
       "      <td>6572.000000</td>\n",
       "      <td>6572.00000</td>\n",
       "      <td>6572.000000</td>\n",
       "      <td>...</td>\n",
       "      <td>6572.000000</td>\n",
       "      <td>6572.0</td>\n",
       "      <td>6572.000000</td>\n",
       "      <td>6572.000000</td>\n",
       "      <td>6572.000000</td>\n",
       "      <td>6572.000000</td>\n",
       "      <td>6572.000000</td>\n",
       "      <td>6572.000000</td>\n",
       "      <td>6572.000000</td>\n",
       "      <td>6572.000000</td>\n",
       "    </tr>\n",
       "    <tr>\n",
       "      <th>mean</th>\n",
       "      <td>3.128728</td>\n",
       "      <td>2.232958</td>\n",
       "      <td>0.384510</td>\n",
       "      <td>0.572581</td>\n",
       "      <td>8440.243457</td>\n",
       "      <td>0.943396</td>\n",
       "      <td>0.002130</td>\n",
       "      <td>0.003500</td>\n",
       "      <td>0.50426</td>\n",
       "      <td>0.000761</td>\n",
       "      <td>...</td>\n",
       "      <td>0.005173</td>\n",
       "      <td>1.0</td>\n",
       "      <td>0.008521</td>\n",
       "      <td>0.718503</td>\n",
       "      <td>0.068016</td>\n",
       "      <td>0.475350</td>\n",
       "      <td>0.014760</td>\n",
       "      <td>0.008369</td>\n",
       "      <td>0.729755</td>\n",
       "      <td>0.270245</td>\n",
       "    </tr>\n",
       "    <tr>\n",
       "      <th>std</th>\n",
       "      <td>1.588513</td>\n",
       "      <td>0.990008</td>\n",
       "      <td>0.517733</td>\n",
       "      <td>0.583909</td>\n",
       "      <td>6121.938095</td>\n",
       "      <td>0.231102</td>\n",
       "      <td>0.046109</td>\n",
       "      <td>0.059059</td>\n",
       "      <td>0.50002</td>\n",
       "      <td>0.027574</td>\n",
       "      <td>...</td>\n",
       "      <td>0.071746</td>\n",
       "      <td>0.0</td>\n",
       "      <td>0.091922</td>\n",
       "      <td>0.449764</td>\n",
       "      <td>0.251792</td>\n",
       "      <td>0.515622</td>\n",
       "      <td>0.120598</td>\n",
       "      <td>0.091105</td>\n",
       "      <td>0.023427</td>\n",
       "      <td>0.023427</td>\n",
       "    </tr>\n",
       "    <tr>\n",
       "      <th>min</th>\n",
       "      <td>1.000000</td>\n",
       "      <td>1.000000</td>\n",
       "      <td>0.000000</td>\n",
       "      <td>0.000000</td>\n",
       "      <td>5.000000</td>\n",
       "      <td>0.000000</td>\n",
       "      <td>0.000000</td>\n",
       "      <td>0.000000</td>\n",
       "      <td>0.00000</td>\n",
       "      <td>0.000000</td>\n",
       "      <td>...</td>\n",
       "      <td>0.000000</td>\n",
       "      <td>1.0</td>\n",
       "      <td>0.000000</td>\n",
       "      <td>0.000000</td>\n",
       "      <td>0.000000</td>\n",
       "      <td>0.000000</td>\n",
       "      <td>0.000000</td>\n",
       "      <td>0.000000</td>\n",
       "      <td>0.700004</td>\n",
       "      <td>0.156573</td>\n",
       "    </tr>\n",
       "    <tr>\n",
       "      <th>25%</th>\n",
       "      <td>2.000000</td>\n",
       "      <td>2.000000</td>\n",
       "      <td>0.000000</td>\n",
       "      <td>0.000000</td>\n",
       "      <td>3285.750000</td>\n",
       "      <td>1.000000</td>\n",
       "      <td>0.000000</td>\n",
       "      <td>0.000000</td>\n",
       "      <td>0.00000</td>\n",
       "      <td>0.000000</td>\n",
       "      <td>...</td>\n",
       "      <td>0.000000</td>\n",
       "      <td>1.0</td>\n",
       "      <td>0.000000</td>\n",
       "      <td>0.000000</td>\n",
       "      <td>0.000000</td>\n",
       "      <td>0.000000</td>\n",
       "      <td>0.000000</td>\n",
       "      <td>0.000000</td>\n",
       "      <td>0.711066</td>\n",
       "      <td>0.256736</td>\n",
       "    </tr>\n",
       "    <tr>\n",
       "      <th>50%</th>\n",
       "      <td>3.000000</td>\n",
       "      <td>2.000000</td>\n",
       "      <td>0.000000</td>\n",
       "      <td>1.000000</td>\n",
       "      <td>7223.000000</td>\n",
       "      <td>1.000000</td>\n",
       "      <td>0.000000</td>\n",
       "      <td>0.000000</td>\n",
       "      <td>1.00000</td>\n",
       "      <td>0.000000</td>\n",
       "      <td>...</td>\n",
       "      <td>0.000000</td>\n",
       "      <td>1.0</td>\n",
       "      <td>0.000000</td>\n",
       "      <td>1.000000</td>\n",
       "      <td>0.000000</td>\n",
       "      <td>0.000000</td>\n",
       "      <td>0.000000</td>\n",
       "      <td>0.000000</td>\n",
       "      <td>0.724445</td>\n",
       "      <td>0.275555</td>\n",
       "    </tr>\n",
       "    <tr>\n",
       "      <th>75%</th>\n",
       "      <td>4.000000</td>\n",
       "      <td>3.000000</td>\n",
       "      <td>1.000000</td>\n",
       "      <td>1.000000</td>\n",
       "      <td>12607.500000</td>\n",
       "      <td>1.000000</td>\n",
       "      <td>0.000000</td>\n",
       "      <td>0.000000</td>\n",
       "      <td>1.00000</td>\n",
       "      <td>0.000000</td>\n",
       "      <td>...</td>\n",
       "      <td>0.000000</td>\n",
       "      <td>1.0</td>\n",
       "      <td>0.000000</td>\n",
       "      <td>1.000000</td>\n",
       "      <td>0.000000</td>\n",
       "      <td>1.000000</td>\n",
       "      <td>0.000000</td>\n",
       "      <td>0.000000</td>\n",
       "      <td>0.743264</td>\n",
       "      <td>0.288934</td>\n",
       "    </tr>\n",
       "    <tr>\n",
       "      <th>max</th>\n",
       "      <td>11.000000</td>\n",
       "      <td>7.000000</td>\n",
       "      <td>3.000000</td>\n",
       "      <td>3.000000</td>\n",
       "      <td>24331.000000</td>\n",
       "      <td>1.000000</td>\n",
       "      <td>1.000000</td>\n",
       "      <td>1.000000</td>\n",
       "      <td>1.00000</td>\n",
       "      <td>1.000000</td>\n",
       "      <td>...</td>\n",
       "      <td>1.000000</td>\n",
       "      <td>1.0</td>\n",
       "      <td>1.000000</td>\n",
       "      <td>1.000000</td>\n",
       "      <td>1.000000</td>\n",
       "      <td>2.000000</td>\n",
       "      <td>1.000000</td>\n",
       "      <td>1.000000</td>\n",
       "      <td>0.843427</td>\n",
       "      <td>0.299996</td>\n",
       "    </tr>\n",
       "  </tbody>\n",
       "</table>\n",
       "<p>8 rows × 317 columns</p>\n",
       "</div>"
      ],
      "text/plain": [
       "       adres_aantal_brp_adres  adres_aantal_verschillende_wijken  \\\n",
       "count             6572.000000                        6572.000000   \n",
       "mean                 3.128728                           2.232958   \n",
       "std                  1.588513                           0.990008   \n",
       "min                  1.000000                           1.000000   \n",
       "25%                  2.000000                           2.000000   \n",
       "50%                  3.000000                           2.000000   \n",
       "75%                  4.000000                           3.000000   \n",
       "max                 11.000000                           7.000000   \n",
       "\n",
       "       adres_aantal_verzendadres  adres_aantal_woonadres_handmatig  \\\n",
       "count                6572.000000                       6572.000000   \n",
       "mean                    0.384510                          0.572581   \n",
       "std                     0.517733                          0.583909   \n",
       "min                     0.000000                          0.000000   \n",
       "25%                     0.000000                          0.000000   \n",
       "50%                     0.000000                          1.000000   \n",
       "75%                     1.000000                          1.000000   \n",
       "max                     3.000000                          3.000000   \n",
       "\n",
       "       adres_dagen_op_adres  adres_recentst_onderdeel_rdam  \\\n",
       "count           6572.000000                    6572.000000   \n",
       "mean            8440.243457                       0.943396   \n",
       "std             6121.938095                       0.231102   \n",
       "min                5.000000                       0.000000   \n",
       "25%             3285.750000                       1.000000   \n",
       "50%             7223.000000                       1.000000   \n",
       "75%            12607.500000                       1.000000   \n",
       "max            24331.000000                       1.000000   \n",
       "\n",
       "       adres_recentste_buurt_groot_ijsselmonde  \\\n",
       "count                              6572.000000   \n",
       "mean                                  0.002130   \n",
       "std                                   0.046109   \n",
       "min                                   0.000000   \n",
       "25%                                   0.000000   \n",
       "50%                                   0.000000   \n",
       "75%                                   0.000000   \n",
       "max                                   1.000000   \n",
       "\n",
       "       adres_recentste_buurt_nieuwe_westen  adres_recentste_buurt_other  \\\n",
       "count                          6572.000000                   6572.00000   \n",
       "mean                              0.003500                      0.50426   \n",
       "std                               0.059059                      0.50002   \n",
       "min                               0.000000                      0.00000   \n",
       "25%                               0.000000                      0.00000   \n",
       "50%                               0.000000                      1.00000   \n",
       "75%                               0.000000                      1.00000   \n",
       "max                               1.000000                      1.00000   \n",
       "\n",
       "       adres_recentste_buurt_oude_noorden  ...  \\\n",
       "count                         6572.000000  ...   \n",
       "mean                             0.000761  ...   \n",
       "std                              0.027574  ...   \n",
       "min                              0.000000  ...   \n",
       "25%                              0.000000  ...   \n",
       "50%                              0.000000  ...   \n",
       "75%                              0.000000  ...   \n",
       "max                              1.000000  ...   \n",
       "\n",
       "       typering_hist_inburgeringsbehoeftig  typering_hist_ind  \\\n",
       "count                          6572.000000             6572.0   \n",
       "mean                              0.005173                1.0   \n",
       "std                               0.071746                0.0   \n",
       "min                               0.000000                1.0   \n",
       "25%                               0.000000                1.0   \n",
       "50%                               0.000000                1.0   \n",
       "75%                               0.000000                1.0   \n",
       "max                               1.000000                1.0   \n",
       "\n",
       "       typering_hist_sector_zorg  typering_ind  \\\n",
       "count                6572.000000   6572.000000   \n",
       "mean                    0.008521      0.718503   \n",
       "std                     0.091922      0.449764   \n",
       "min                     0.000000      0.000000   \n",
       "25%                     0.000000      0.000000   \n",
       "50%                     0.000000      1.000000   \n",
       "75%                     0.000000      1.000000   \n",
       "max                     1.000000      1.000000   \n",
       "\n",
       "       typering_indicatie_geheime_gegevens  typering_other  \\\n",
       "count                          6572.000000     6572.000000   \n",
       "mean                              0.068016        0.475350   \n",
       "std                               0.251792        0.515622   \n",
       "min                               0.000000        0.000000   \n",
       "25%                               0.000000        0.000000   \n",
       "50%                               0.000000        0.000000   \n",
       "75%                               0.000000        1.000000   \n",
       "max                               1.000000        2.000000   \n",
       "\n",
       "       typering_transport__logistiek___tuinbouw  \\\n",
       "count                               6572.000000   \n",
       "mean                                   0.014760   \n",
       "std                                    0.120598   \n",
       "min                                    0.000000   \n",
       "25%                                    0.000000   \n",
       "50%                                    0.000000   \n",
       "75%                                    0.000000   \n",
       "max                                    1.000000   \n",
       "\n",
       "       typering_zorg__schoonmaak___welzijn           Ja          Nee  \n",
       "count                          6572.000000  6572.000000  6572.000000  \n",
       "mean                              0.008369     0.729755     0.270245  \n",
       "std                               0.091105     0.023427     0.023427  \n",
       "min                               0.000000     0.700004     0.156573  \n",
       "25%                               0.000000     0.711066     0.256736  \n",
       "50%                               0.000000     0.724445     0.275555  \n",
       "75%                               0.000000     0.743264     0.288934  \n",
       "max                               1.000000     0.843427     0.299996  \n",
       "\n",
       "[8 rows x 317 columns]"
      ]
     },
     "execution_count": 16,
     "metadata": {},
     "output_type": "execute_result"
    }
   ],
   "source": [
    "\n",
    "filtered_good_data.describe()"
   ]
  },
  {
   "cell_type": "code",
   "execution_count": 11,
   "metadata": {},
   "outputs": [
    {
     "data": {
      "text/plain": [
       "checked\n",
       "True    6572\n",
       "Name: count, dtype: int64"
      ]
     },
     "execution_count": 11,
     "metadata": {},
     "output_type": "execute_result"
    }
   ],
   "source": [
    "filtered_good_data[\"checked\"].value_counts()"
   ]
  },
  {
   "cell_type": "code",
   "execution_count": 34,
   "metadata": {},
   "outputs": [],
   "source": [
    "X_gd = filtered_good_data.drop(['checked', 'Ja', 'Nee'],  axis=1)\n",
    "y_gd = filtered_good_data['checked']\n",
    "good_data_X = pd.concat([X_train, X_gd])\n",
    "good_data_y = pd.concat([y_train, y_gd])\n",
    "#TODO SANKALP This should be a combination of the extra generated data, and the already existing X_train, y_train. The checked, ja, nee columns should be cut from the extra generated data\n",
    "#something like\n",
    "#X_gd = extra_data.drop(['checked', 'Ja', 'Nee'],  axis=1)\n",
    "#y_gd = extra_data['checked'] \n",
    "#good_data_X = X_gd + X_train\n",
    "#good_data_y = y_gd + y_train\n"
   ]
  },
  {
   "cell_type": "code",
   "execution_count": 35,
   "metadata": {},
   "outputs": [],
   "source": [
    "X_train_gd, y_train_gd = good_data_X.copy(), good_data_y.copy()\n",
    "X_test_gd, y_test_gd = X_test.copy(), y_test.copy()\n",
    "\n",
    "X_train_scaled_gd = scaler.fit_transform(X_train_gd)\n",
    "X_test_scaled_gd = scaler.transform(X_test_gd)"
   ]
  },
  {
   "cell_type": "code",
   "execution_count": 21,
   "metadata": {},
   "outputs": [
    {
     "name": "stdout",
     "output_type": "stream",
     "text": [
      "              precision    recall  f1-score   support\n",
      "\n",
      "       False       0.93      0.96      0.95     13834\n",
      "        True       0.75      0.60      0.67      2416\n",
      "\n",
      "    accuracy                           0.91     16250\n",
      "   macro avg       0.84      0.78      0.81     16250\n",
      "weighted avg       0.91      0.91      0.91     16250\n",
      "\n",
      "0.9113230769230769\n"
     ]
    },
    {
     "data": {
      "text/plain": [
       "['svm_gd.pkl']"
      ]
     },
     "execution_count": 21,
     "metadata": {},
     "output_type": "execute_result"
    }
   ],
   "source": [
    "svm_gd = SVC(probability=False) #remove probability=True if we do not want thresholding. It will train faster.\n",
    "svm_gd.fit(X_train_scaled_gd, y_train_gd)\n",
    "predict_gd = svm_gd.predict(X_test_complete_thr)\n",
    "print(classification_report(y_test_complete_thr, predict_gd))\n",
    "print(accuracy_score(y_test_complete_thr, predict_gd))\n",
    "joblib.dump(svm_gd, \"svm_gd.pkl\")"
   ]
  },
  {
   "cell_type": "code",
   "execution_count": 36,
   "metadata": {},
   "outputs": [],
   "source": [
    "X_train_scaled_gd_df = pd.DataFrame(X_train_scaled_gd, columns=X_train_gd.columns)"
   ]
  },
  {
   "cell_type": "code",
   "execution_count": 37,
   "metadata": {},
   "outputs": [],
   "source": [
    "X_train_complete = X_train_scaled_gd_df.copy()\n",
    "for column in X_train_complete.columns:\n",
    "    for vals in sensitive_groups.values():\n",
    "        if column in vals:\n",
    "            X_train_complete[column] = X_train_complete[column] * 0\n",
    "y_train_complete = y_train_gd.copy()\n",
    "X_test_complete = X_test_scaled_fz.copy()\n",
    "y_test_complete = y_test_gd.copy()"
   ]
  },
  {
   "cell_type": "code",
   "execution_count": 24,
   "metadata": {},
   "outputs": [
    {
     "name": "stderr",
     "output_type": "stream",
     "text": [
      "C:\\Users\\San\\AppData\\Local\\Packages\\PythonSoftwareFoundation.Python.3.11_qbz5n2kfra8p0\\LocalCache\\local-packages\\Python311\\site-packages\\sklearn\\base.py:493: UserWarning: X does not have valid feature names, but SVC was fitted with feature names\n",
      "  warnings.warn(\n"
     ]
    },
    {
     "name": "stdout",
     "output_type": "stream",
     "text": [
      "              precision    recall  f1-score   support\n",
      "\n",
      "       False       0.95      0.95      0.95     13834\n",
      "        True       0.70      0.69      0.70      2416\n",
      "\n",
      "    accuracy                           0.91     16250\n",
      "   macro avg       0.82      0.82      0.82     16250\n",
      "weighted avg       0.91      0.91      0.91     16250\n",
      "\n",
      "0.9097846153846154\n"
     ]
    },
    {
     "data": {
      "text/plain": [
       "['svm_complete.pkl']"
      ]
     },
     "execution_count": 24,
     "metadata": {},
     "output_type": "execute_result"
    }
   ],
   "source": [
    "svm_complete = SVC(probability=False) #remove probability=True if we do not want thresholding. It will train faster.\n",
    "svm_complete.fit(X_train_complete, y_train_complete)\n",
    "predict_complete = svm_complete.predict(X_test_complete_thr)\n",
    "print(classification_report(y_test_complete_thr, predict_complete))\n",
    "print(accuracy_score(y_test_complete_thr, predict_complete))\n",
    "joblib.dump(svm_complete, \"svm_complete.pkl\")"
   ]
  },
  {
   "cell_type": "code",
   "execution_count": 38,
   "metadata": {},
   "outputs": [],
   "source": [
    "X_train_complete, y_train_complete, \n",
    "X_test_complete_thr, X_validation_complete_thr, y_test_complete_thr, y_validation_complete_thr = train_test_split(X_test_complete, y_test_complete, test_size=0.5, random_state=42)"
   ]
  },
  {
   "cell_type": "code",
   "execution_count": 26,
   "metadata": {},
   "outputs": [
    {
     "name": "stderr",
     "output_type": "stream",
     "text": [
      "C:\\Users\\San\\AppData\\Local\\Packages\\PythonSoftwareFoundation.Python.3.11_qbz5n2kfra8p0\\LocalCache\\local-packages\\Python311\\site-packages\\sklearn\\base.py:493: UserWarning: X does not have valid feature names, but SVC was fitted with feature names\n",
      "  warnings.warn(\n"
     ]
    },
    {
     "name": "stdout",
     "output_type": "stream",
     "text": [
      "              precision    recall  f1-score   support\n",
      "\n",
      "       False       0.95      0.95      0.95     13834\n",
      "        True       0.70      0.69      0.70      2416\n",
      "\n",
      "    accuracy                           0.91     16250\n",
      "   macro avg       0.82      0.82      0.82     16250\n",
      "weighted avg       0.91      0.91      0.91     16250\n",
      "\n",
      "0.9097846153846154\n"
     ]
    },
    {
     "data": {
      "text/plain": [
       "['svm_complete_for_thresholding.pkl']"
      ]
     },
     "execution_count": 26,
     "metadata": {},
     "output_type": "execute_result"
    }
   ],
   "source": [
    "svm_complete_thr = SVC(probability=True) #remove probability=True if we do not want thresholding. It will train faster.\n",
    "svm_complete_thr.fit(X_train_complete, y_train_complete)\n",
    "predict_complete_thr = svm_complete_thr.predict(X_test_complete_thr)\n",
    "print(classification_report(y_test_complete_thr, predict_complete_thr))\n",
    "print(accuracy_score(y_test_complete_thr, predict_complete_thr))\n",
    "joblib.dump(svm_complete_thr, \"svm_complete_for_thresholding.pkl\")"
   ]
  },
  {
   "cell_type": "code",
   "execution_count": 59,
   "metadata": {},
   "outputs": [
    {
     "name": "stdout",
     "output_type": "stream",
     "text": [
      "              precision    recall  f1-score   support\n",
      "\n",
      "       False       0.88      0.96      0.92     13834\n",
      "        True       0.51      0.27      0.35      2416\n",
      "\n",
      "    accuracy                           0.85     16250\n",
      "   macro avg       0.70      0.61      0.63     16250\n",
      "weighted avg       0.83      0.85      0.83     16250\n",
      "\n",
      "0.8529846153846153\n"
     ]
    },
    {
     "data": {
      "text/plain": [
       "['dtree_basic.pkl']"
      ]
     },
     "execution_count": 59,
     "metadata": {},
     "output_type": "execute_result"
    }
   ],
   "source": [
    "dtree_basic = DecisionTreeClassifier(random_state=42)\n",
    "dtree_basic.fit(X_train_scaled, y_train)\n",
    "y_pred_bad_model = dtree_basic.predict(X_test_complete_thr)\n",
    "print(classification_report(y_test_complete_thr, y_pred_bad_model))\n",
    "print(accuracy_score(y_test_complete_thr, y_pred_bad_model))\n",
    "joblib.dump(dtree_basic, \"dtree_basic.pkl\")"
   ]
  },
  {
   "cell_type": "code",
   "execution_count": null,
   "metadata": {},
   "outputs": [],
   "source": [
    "adaboost_basic = AdaBoostClassifier(random_state=42)"
   ]
  },
  {
   "cell_type": "code",
   "execution_count": 49,
   "metadata": {},
   "outputs": [],
   "source": [
    "# bias against young people who identify as male\n",
    "filtered_bad_data = pd.DataFrame(synth_data[((synth_data['checked']==True) & (synth_data['persoon_geslacht_vrouw']==0)) & ((synth_data['checked'] == True) & (synth_data['persoon_leeftijd_bij_onderzoek']<=30))])"
   ]
  },
  {
   "cell_type": "code",
   "execution_count": 50,
   "metadata": {},
   "outputs": [],
   "source": [
    "X_bd = filtered_bad_data.drop(['checked', 'Ja', 'Nee'],  axis=1)\n",
    "y_bd = filtered_bad_data['checked']"
   ]
  },
  {
   "cell_type": "code",
   "execution_count": 51,
   "metadata": {},
   "outputs": [],
   "source": [
    "#TODO SANKALP Same as before but bad data evil data bad hurr durr\n",
    "bad_data_X = pd.concat([X_train, X_bd])\n",
    "bad_data_y = pd.concat([y_train, y_bd])"
   ]
  },
  {
   "cell_type": "code",
   "execution_count": 52,
   "metadata": {},
   "outputs": [],
   "source": [
    "X_train_bd, y_train_bd = bad_data_X.copy(), bad_data_y.copy()\n",
    "X_test_bd, y_test_bd = X_test.copy(), y_test.copy()\n",
    "X_train_scaled_bd = scaler.fit_transform(X_train_bd)\n",
    "X_test_scaled_bd = scaler.transform(X_test_bd)"
   ]
  },
  {
   "cell_type": "code",
   "execution_count": null,
   "metadata": {},
   "outputs": [
    {
     "name": "stdout",
     "output_type": "stream",
     "text": [
      "              precision    recall  f1-score   support\n",
      "\n",
      "       False       0.88      0.96      0.92     13834\n",
      "        True       0.53      0.26      0.35      2416\n",
      "\n",
      "    accuracy                           0.86     16250\n",
      "   macro avg       0.70      0.61      0.64     16250\n",
      "weighted avg       0.83      0.86      0.83     16250\n",
      "\n",
      "0.8552\n"
     ]
    },
    {
     "data": {
      "text/plain": [
       "['dtree_bd.pkl']"
      ]
     },
     "execution_count": 58,
     "metadata": {},
     "output_type": "execute_result"
    }
   ],
   "source": [
    "dtree_bd = DecisionTreeClassifier(random_state=42)\n",
    "dtree_bd.fit(X_train_scaled_bd, y_train_bd)\n",
    "y_pred_bad_model_bd = dtree_bd.predict(X_test_complete_thr)\n",
    "print(classification_report(y_test_complete_thr, y_pred_bad_model_bd))\n",
    "print(accuracy_score(y_test_complete_thr, y_pred_bad_model_bd))\n",
    "joblib.dump(dtree_bd, \"dtree_bd.pkl\")"
   ]
  },
  {
   "cell_type": "code",
   "execution_count": 13,
   "metadata": {},
   "outputs": [],
   "source": [
    "from tqdm import tqdm\n",
    "def mutation_tests(name, mutations):\n",
    "    # Train the mutated model\n",
    "    mutated_accuracies = []\n",
    "    for i in tqdm(range(len(mutations))):\n",
    "        mutated_model = mutations[i]\n",
    "        print(\"Mutated model: \", mutated_model)\n",
    "        mutated_model.fit(X_train_scaled, y_train)\n",
    "        y_pred_mutated = mutated_model.predict(X_test_complete_thr)\n",
    "        mutated_accuracy = accuracy_score(y_test_complete_thr, y_pred_mutated)\n",
    "        print(mutated_accuracy)\n",
    "        mutated_accuracies.append(mutated_accuracy)\n",
    "        filename = \"{0}_mutation_{1}.pkl\".format(name, i)\n",
    "        joblib.dump(mutated_model, filename)\n",
    "    return mutated_accuracies"
   ]
  },
  {
   "cell_type": "code",
   "execution_count": 34,
   "metadata": {},
   "outputs": [
    {
     "data": {
      "text/plain": [
       "['y_test_complete_thr.pkl']"
      ]
     },
     "execution_count": 34,
     "metadata": {},
     "output_type": "execute_result"
    }
   ],
   "source": [
    "joblib.dump(X_test_complete_thr, \"X_test_complete_thr.pkl\")\n",
    "joblib.dump(y_test_complete_thr, \"y_test_complete_thr.pkl\")"
   ]
  },
  {
   "cell_type": "code",
   "execution_count": 22,
   "metadata": {},
   "outputs": [
    {
     "data": {
      "text/plain": [
       "['y_validation_complete_thr.pkl']"
      ]
     },
     "execution_count": 22,
     "metadata": {},
     "output_type": "execute_result"
    }
   ],
   "source": [
    "joblib.dump(X_validation_complete_thr, \"X_validation_complete_thr.pkl\")\n",
    "joblib.dump(y_validation_complete_thr, \"y_validation_complete_thr.pkl\")"
   ]
  },
  {
   "cell_type": "code",
   "execution_count": 60,
   "metadata": {},
   "outputs": [
    {
     "data": {
      "text/plain": [
       "['y_train_bd.pkl']"
      ]
     },
     "execution_count": 60,
     "metadata": {},
     "output_type": "execute_result"
    }
   ],
   "source": [
    "joblib.dump(X_train_scaled_bd, \"X_train_scaled_bd.pkl\")\n",
    "joblib.dump(y_train_bd, \"y_train_bd.pkl\")"
   ]
  },
  {
   "cell_type": "code",
   "execution_count": 66,
   "metadata": {},
   "outputs": [
    {
     "name": "stderr",
     "output_type": "stream",
     "text": [
      "C:\\Users\\San\\AppData\\Local\\Packages\\PythonSoftwareFoundation.Python.3.11_qbz5n2kfra8p0\\LocalCache\\local-packages\\Python311\\site-packages\\sklearn\\ensemble\\_weight_boosting.py:527: FutureWarning: The SAMME.R algorithm (the default) is deprecated and will be removed in 1.6. Use the SAMME algorithm to circumvent this warning.\n",
      "  warnings.warn(\n",
      "C:\\Users\\San\\AppData\\Local\\Packages\\PythonSoftwareFoundation.Python.3.11_qbz5n2kfra8p0\\LocalCache\\local-packages\\Python311\\site-packages\\sklearn\\base.py:493: UserWarning: X does not have valid feature names, but AdaBoostClassifier was fitted with feature names\n",
      "  warnings.warn(\n"
     ]
    },
    {
     "name": "stdout",
     "output_type": "stream",
     "text": [
      "              precision    recall  f1-score   support\n",
      "\n",
      "       False       0.94      0.86      0.90     13834\n",
      "        True       0.46      0.70      0.56      2416\n",
      "\n",
      "    accuracy                           0.83     16250\n",
      "   macro avg       0.70      0.78      0.73     16250\n",
      "weighted avg       0.87      0.83      0.85     16250\n",
      "\n",
      "0.8340307692307692\n"
     ]
    }
   ],
   "source": [
    "from sklearn.ensemble import AdaBoostClassifier\n",
    "\n",
    "adaboost_bd = AdaBoostClassifier(random_state=42, learning_rate=0.6, estimator=DecisionTreeClassifier(max_depth=3))\n",
    "adaboost_bd.fit(X_train_bd, y_train_bd)\n",
    "ada_predict_bd = adaboost_bd.predict(X_test_complete_thr)\n",
    "print(classification_report(y_test_complete_thr, ada_predict_bd))\n",
    "print(accuracy_score(y_test_complete_thr, ada_predict_bd))\n"
   ]
  },
  {
   "cell_type": "code",
   "execution_count": 63,
   "metadata": {},
   "outputs": [
    {
     "data": {
      "text/plain": [
       "['ada_predict_bd.pkl']"
      ]
     },
     "execution_count": 63,
     "metadata": {},
     "output_type": "execute_result"
    }
   ],
   "source": [
    "joblib.dump(adaboost_bd, \"ada_predict_bd.pkl\")"
   ]
  },
  {
   "cell_type": "code",
   "execution_count": 15,
   "metadata": {},
   "outputs": [
    {
     "name": "stderr",
     "output_type": "stream",
     "text": [
      "  0%|          | 0/3 [00:00<?, ?it/s]"
     ]
    },
    {
     "name": "stdout",
     "output_type": "stream",
     "text": [
      "Mutated model:  SVC(kernel='poly')\n"
     ]
    },
    {
     "name": "stderr",
     "output_type": "stream",
     "text": [
      " 33%|███▎      | 1/3 [51:50<1:43:41, 3110.54s/it]"
     ]
    },
    {
     "name": "stdout",
     "output_type": "stream",
     "text": [
      "0.8822153846153846\n",
      "Mutated model:  SVC(C=2)\n"
     ]
    },
    {
     "name": "stderr",
     "output_type": "stream",
     "text": [
      " 67%|██████▋   | 2/3 [1:29:14<43:21, 2601.00s/it]"
     ]
    },
    {
     "name": "stdout",
     "output_type": "stream",
     "text": [
      "0.9074461538461538\n",
      "Mutated model:  SVC(gamma='auto')\n"
     ]
    },
    {
     "name": "stderr",
     "output_type": "stream",
     "text": [
      "100%|██████████| 3/3 [1:51:39<00:00, 2233.17s/it]"
     ]
    },
    {
     "name": "stdout",
     "output_type": "stream",
     "text": [
      "0.9065846153846154\n"
     ]
    },
    {
     "name": "stderr",
     "output_type": "stream",
     "text": [
      "\n"
     ]
    }
   ],
   "source": [
    "mutations_svc = [SVC(kernel='poly'), SVC(C=2), SVC(gamma='auto')]\n",
    "mutated_accuracies_SVC = mutation_tests(\"SVC\", mutations=mutations_svc)"
   ]
  },
  {
   "cell_type": "code",
   "execution_count": 14,
   "metadata": {},
   "outputs": [
    {
     "name": "stderr",
     "output_type": "stream",
     "text": [
      "  0%|          | 0/3 [00:00<?, ?it/s]"
     ]
    },
    {
     "name": "stdout",
     "output_type": "stream",
     "text": [
      "Mutated model:  DecisionTreeClassifier(max_depth=2, random_state=42)\n"
     ]
    },
    {
     "name": "stderr",
     "output_type": "stream",
     "text": [
      " 33%|███▎      | 1/3 [00:00<00:01,  1.38it/s]"
     ]
    },
    {
     "name": "stdout",
     "output_type": "stream",
     "text": [
      "0.851323076923077\n",
      "Mutated model:  DecisionTreeClassifier(criterion='entropy', random_state=42)\n"
     ]
    },
    {
     "name": "stderr",
     "output_type": "stream",
     "text": [
      " 67%|██████▋   | 2/3 [00:05<00:03,  3.35s/it]"
     ]
    },
    {
     "name": "stdout",
     "output_type": "stream",
     "text": [
      "0.8540923076923077\n",
      "Mutated model:  DecisionTreeClassifier(random_state=1)\n"
     ]
    },
    {
     "name": "stderr",
     "output_type": "stream",
     "text": [
      "100%|██████████| 3/3 [00:13<00:00,  4.35s/it]"
     ]
    },
    {
     "name": "stdout",
     "output_type": "stream",
     "text": [
      "0.8531076923076923\n"
     ]
    },
    {
     "name": "stderr",
     "output_type": "stream",
     "text": [
      "\n"
     ]
    }
   ],
   "source": [
    "mutations_dtree = [DecisionTreeClassifier(max_depth=2, random_state=42), DecisionTreeClassifier(criterion='entropy', random_state=42), DecisionTreeClassifier(random_state=1)]\n",
    "mutated_accuracies_dtree = mutation_tests(\"dtree\", mutations=mutations_dtree)"
   ]
  }
 ],
 "metadata": {
  "kernelspec": {
   "display_name": "Python 3",
   "language": "python",
   "name": "python3"
  },
  "language_info": {
   "codemirror_mode": {
    "name": "ipython",
    "version": 3
   },
   "file_extension": ".py",
   "mimetype": "text/x-python",
   "name": "python",
   "nbconvert_exporter": "python",
   "pygments_lexer": "ipython3",
   "version": "3.11.9"
  }
 },
 "nbformat": 4,
 "nbformat_minor": 2
}
