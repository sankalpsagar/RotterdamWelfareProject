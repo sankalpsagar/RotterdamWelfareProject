{
 "cells": [
  {
   "cell_type": "code",
   "execution_count": 1,
   "metadata": {
    "ExecuteTime": {
     "end_time": "2025-01-24T12:37:58.012331300Z",
     "start_time": "2025-01-24T12:37:54.677917200Z"
    }
   },
   "outputs": [],
   "source": [
    "import joblib\n",
    "import pandas as pd\n",
    "import numpy as np\n",
    "from sklearn.model_selection import train_test_split\n",
    "from sklearn.preprocessing import StandardScaler\n",
    "import matplotlib.pyplot as plt\n",
    "from collections import defaultdict\n",
    "import os\n",
    "import math\n",
    "import onnxruntime as rt"
   ]
  },
  {
   "cell_type": "code",
   "execution_count": 2,
   "outputs": [],
   "source": [
    "def build_input_data(sess, data):\n",
    "    \"\"\"\n",
    "    Builds the input_data dictionary for ONNX inference.\n",
    "\n",
    "    Parameters:\n",
    "    - sess: onnxruntime.InferenceSession, the ONNX model session.\n",
    "    - data: pandas.DataFrame or dict-like, the input data.\n",
    "\n",
    "    Returns:\n",
    "    - input_data: dict, formatted input data for the ONNX model.\n",
    "    \"\"\"\n",
    "    input_data = {}\n",
    "\n",
    "    for input_tensor in sess.get_inputs():\n",
    "        name = input_tensor.name\n",
    "        shape = input_tensor.shape  # Shape of the expected input (e.g., [None, 1])\n",
    "        data_type = input_tensor.type  # Expected data type (e.g., 'tensor(float)', 'tensor(string)')\n",
    "\n",
    "        # Extract the column from the input data\n",
    "        column_data = data[name]\n",
    "\n",
    "        # Ensure it's in the correct format\n",
    "        if \"float\" in data_type.lower():\n",
    "            input_data[name] = np.array(column_data).astype(np.float32).reshape(-1, shape[1] if len(shape) > 1 else 1)\n",
    "        elif \"string\" in data_type.lower():\n",
    "            input_data[name] = np.array(column_data).astype(str).reshape(-1, shape[1] if len(shape) > 1 else 1)\n",
    "        elif \"int64\" in data_type.lower():\n",
    "            input_data[name] = np.array(column_data).astype(np.int64).reshape(-1, shape[1] if len(shape) > 1 else 1)\n",
    "        else:\n",
    "            raise ValueError(f\"Unsupported data type for input '{name}': {data_type}\")\n",
    "\n",
    "    return input_data\n"
   ],
   "metadata": {
    "collapsed": false,
    "ExecuteTime": {
     "end_time": "2025-01-24T12:38:01.588171300Z",
     "start_time": "2025-01-24T12:38:01.569429500Z"
    }
   }
  },
  {
   "cell_type": "code",
   "execution_count": 3,
   "outputs": [],
   "source": [
    "#change to model_1 to run Model 1\n",
    "new_session = rt.InferenceSession(\"Model/model_2.onnx\")"
   ],
   "metadata": {
    "collapsed": false,
    "ExecuteTime": {
     "end_time": "2025-01-24T12:38:11.770271300Z",
     "start_time": "2025-01-24T12:38:04.568646Z"
    }
   }
  },
  {
   "cell_type": "code",
   "execution_count": 4,
   "metadata": {
    "ExecuteTime": {
     "end_time": "2025-01-24T12:38:17.336803700Z",
     "start_time": "2025-01-24T12:38:13.205491700Z"
    }
   },
   "outputs": [
    {
     "data": {
      "text/plain": "   adres_aantal_brp_adres  adres_aantal_verschillende_wijken  \\\n0                       1                                  1   \n1                       4                                  2   \n2                       6                                  4   \n3                       3                                  2   \n4                       3                                  2   \n\n   adres_aantal_verzendadres  adres_aantal_woonadres_handmatig  \\\n0                          0                                 0   \n1                          1                                 1   \n2                          2                                 1   \n3                          0                                 1   \n4                          0                                 0   \n\n   adres_dagen_op_adres  adres_recentst_onderdeel_rdam  \\\n0                 23240                              1   \n1                  1971                              1   \n2                  7247                              0   \n3                  8060                              1   \n4                 18705                              1   \n\n   adres_recentste_buurt_groot_ijsselmonde  \\\n0                                        0   \n1                                        0   \n2                                        0   \n3                                        0   \n4                                        0   \n\n   adres_recentste_buurt_nieuwe_westen  adres_recentste_buurt_other  \\\n0                                    0                            0   \n1                                    0                            1   \n2                                    0                            1   \n3                                    0                            1   \n4                                    0                            0   \n\n   adres_recentste_buurt_oude_noorden  ...  typering_hist_ind  \\\n0                                   0  ...                  1   \n1                                   0  ...                  1   \n2                                   0  ...                  1   \n3                                   0  ...                  1   \n4                                   0  ...                  1   \n\n   typering_hist_sector_zorg  typering_ind  \\\n0                          0             0   \n1                          0             1   \n2                          0             1   \n3                          0             0   \n4                          0             1   \n\n   typering_indicatie_geheime_gegevens  typering_other  \\\n0                                    0               0   \n1                                    0               1   \n2                                    0               0   \n3                                    0               0   \n4                                    0               0   \n\n   typering_transport__logistiek___tuinbouw  \\\n0                                         0   \n1                                         0   \n2                                         0   \n3                                         0   \n4                                         0   \n\n   typering_zorg__schoonmaak___welzijn        Ja       Nee  checked  \n0                                    0  0.617698  0.382302    False  \n1                                    0  0.602167  0.397833    False  \n2                                    0  0.512377  0.487623    False  \n3                                    0  0.717796  0.282204     True  \n4                                    0  0.705484  0.294516     True  \n\n[5 rows x 318 columns]",
      "text/html": "<div>\n<style scoped>\n    .dataframe tbody tr th:only-of-type {\n        vertical-align: middle;\n    }\n\n    .dataframe tbody tr th {\n        vertical-align: top;\n    }\n\n    .dataframe thead th {\n        text-align: right;\n    }\n</style>\n<table border=\"1\" class=\"dataframe\">\n  <thead>\n    <tr style=\"text-align: right;\">\n      <th></th>\n      <th>adres_aantal_brp_adres</th>\n      <th>adres_aantal_verschillende_wijken</th>\n      <th>adres_aantal_verzendadres</th>\n      <th>adres_aantal_woonadres_handmatig</th>\n      <th>adres_dagen_op_adres</th>\n      <th>adres_recentst_onderdeel_rdam</th>\n      <th>adres_recentste_buurt_groot_ijsselmonde</th>\n      <th>adres_recentste_buurt_nieuwe_westen</th>\n      <th>adres_recentste_buurt_other</th>\n      <th>adres_recentste_buurt_oude_noorden</th>\n      <th>...</th>\n      <th>typering_hist_ind</th>\n      <th>typering_hist_sector_zorg</th>\n      <th>typering_ind</th>\n      <th>typering_indicatie_geheime_gegevens</th>\n      <th>typering_other</th>\n      <th>typering_transport__logistiek___tuinbouw</th>\n      <th>typering_zorg__schoonmaak___welzijn</th>\n      <th>Ja</th>\n      <th>Nee</th>\n      <th>checked</th>\n    </tr>\n  </thead>\n  <tbody>\n    <tr>\n      <th>0</th>\n      <td>1</td>\n      <td>1</td>\n      <td>0</td>\n      <td>0</td>\n      <td>23240</td>\n      <td>1</td>\n      <td>0</td>\n      <td>0</td>\n      <td>0</td>\n      <td>0</td>\n      <td>...</td>\n      <td>1</td>\n      <td>0</td>\n      <td>0</td>\n      <td>0</td>\n      <td>0</td>\n      <td>0</td>\n      <td>0</td>\n      <td>0.617698</td>\n      <td>0.382302</td>\n      <td>False</td>\n    </tr>\n    <tr>\n      <th>1</th>\n      <td>4</td>\n      <td>2</td>\n      <td>1</td>\n      <td>1</td>\n      <td>1971</td>\n      <td>1</td>\n      <td>0</td>\n      <td>0</td>\n      <td>1</td>\n      <td>0</td>\n      <td>...</td>\n      <td>1</td>\n      <td>0</td>\n      <td>1</td>\n      <td>0</td>\n      <td>1</td>\n      <td>0</td>\n      <td>0</td>\n      <td>0.602167</td>\n      <td>0.397833</td>\n      <td>False</td>\n    </tr>\n    <tr>\n      <th>2</th>\n      <td>6</td>\n      <td>4</td>\n      <td>2</td>\n      <td>1</td>\n      <td>7247</td>\n      <td>0</td>\n      <td>0</td>\n      <td>0</td>\n      <td>1</td>\n      <td>0</td>\n      <td>...</td>\n      <td>1</td>\n      <td>0</td>\n      <td>1</td>\n      <td>0</td>\n      <td>0</td>\n      <td>0</td>\n      <td>0</td>\n      <td>0.512377</td>\n      <td>0.487623</td>\n      <td>False</td>\n    </tr>\n    <tr>\n      <th>3</th>\n      <td>3</td>\n      <td>2</td>\n      <td>0</td>\n      <td>1</td>\n      <td>8060</td>\n      <td>1</td>\n      <td>0</td>\n      <td>0</td>\n      <td>1</td>\n      <td>0</td>\n      <td>...</td>\n      <td>1</td>\n      <td>0</td>\n      <td>0</td>\n      <td>0</td>\n      <td>0</td>\n      <td>0</td>\n      <td>0</td>\n      <td>0.717796</td>\n      <td>0.282204</td>\n      <td>True</td>\n    </tr>\n    <tr>\n      <th>4</th>\n      <td>3</td>\n      <td>2</td>\n      <td>0</td>\n      <td>0</td>\n      <td>18705</td>\n      <td>1</td>\n      <td>0</td>\n      <td>0</td>\n      <td>0</td>\n      <td>0</td>\n      <td>...</td>\n      <td>1</td>\n      <td>0</td>\n      <td>1</td>\n      <td>0</td>\n      <td>0</td>\n      <td>0</td>\n      <td>0</td>\n      <td>0.705484</td>\n      <td>0.294516</td>\n      <td>True</td>\n    </tr>\n  </tbody>\n</table>\n<p>5 rows × 318 columns</p>\n</div>"
     },
     "execution_count": 4,
     "metadata": {},
     "output_type": "execute_result"
    }
   ],
   "source": [
    "df = pd.read_csv(\"investigation_train_large_checked.csv\", na_values='?')\n",
    "df.head()"
   ]
  },
  {
   "cell_type": "code",
   "execution_count": 5,
   "metadata": {
    "ExecuteTime": {
     "end_time": "2025-01-24T12:38:20.702626200Z",
     "start_time": "2025-01-24T12:38:19.034415700Z"
    }
   },
   "outputs": [],
   "source": [
    "X = df.drop(['checked', 'Ja', 'Nee'],  axis=1)\n",
    "y = df['checked']\n",
    "X_train, X_test, y_train, y_test = train_test_split(X, y, test_size=0.25, random_state=42)"
   ]
  },
  {
   "cell_type": "code",
   "execution_count": 6,
   "metadata": {
    "ExecuteTime": {
     "end_time": "2025-01-24T12:38:23.347785100Z",
     "start_time": "2025-01-24T12:38:21.405737900Z"
    }
   },
   "outputs": [],
   "source": [
    "input_data = build_input_data(new_session, X_test)\n",
    "\n",
    "# Perform inference using the ONNX model\n",
    "result = new_session.run(None, input_data)[0]"
   ]
  },
  {
   "cell_type": "code",
   "execution_count": 7,
   "metadata": {
    "ExecuteTime": {
     "end_time": "2025-01-24T12:38:24.591821100Z",
     "start_time": "2025-01-24T12:38:24.572293600Z"
    }
   },
   "outputs": [
    {
     "name": "stdout",
     "output_type": "stream",
     "text": [
      "(32500,)\n"
     ]
    }
   ],
   "source": [
    "print(result.shape)"
   ]
  },
  {
   "cell_type": "code",
   "execution_count": 8,
   "metadata": {
    "ExecuteTime": {
     "end_time": "2025-01-24T12:38:25.774632900Z",
     "start_time": "2025-01-24T12:38:25.677842200Z"
    }
   },
   "outputs": [
    {
     "name": "stdout",
     "output_type": "stream",
     "text": [
      "(32500, 316)\n"
     ]
    }
   ],
   "source": [
    "# save the test data as a csv file\n",
    "X_test_df = pd.DataFrame(X_test, columns=X.columns) \n",
    "\n",
    "y_test_df = pd.DataFrame(y_test, columns=[\"checked\"]) \n",
    "\n",
    "X_test_df = X_test_df.reset_index(drop=True)\n",
    "y_test_df = y_test_df.reset_index(drop=True)\n",
    "\n",
    "test_df = pd.concat([X_test_df, y_test_df], axis=1)\n",
    "\n",
    "print(test_df.shape)"
   ]
  },
  {
   "cell_type": "code",
   "execution_count": 9,
   "metadata": {
    "ExecuteTime": {
     "end_time": "2025-01-24T12:38:28.612139700Z",
     "start_time": "2025-01-24T12:38:28.598131900Z"
    }
   },
   "outputs": [],
   "source": [
    "sensitive_features = [\"adres_dagen_op_adres\", \"adres_recentste_buurt_groot_ijsselmonde\", \"adres_recentste_buurt_nieuwe_westen\", \"adres_recentste_buurt_other\", \"adres_recentste_buurt_oude_noorden\", \"adres_recentste_buurt_vreewijk\", \"adres_recentste_plaats_other\", \"adres_recentste_plaats_rotterdam\", \"adres_recentste_wijk_charlois\", \"adres_recentste_wijk_delfshaven\", \"adres_recentste_wijk_feijenoord\", \"adres_recentste_wijk_ijsselmonde\", \"adres_recentste_wijk_kralingen_c\", \"adres_recentste_wijk_noord\", \"adres_recentste_wijk_other\", \"adres_recentste_wijk_prins_alexa\", \"adres_recentste_wijk_stadscentru\", \"afspraak_aantal_woorden\", \"afspraak_afgelopen_jaar_monitoring_insp__wet_taaleis_na_12_mnd_n_a_v__taa04_____geen_maatregel\", \"afspraak_afgelopen_jaar_ontheffing_taaleis\", \"afspraak_laatstejaar_aantal_woorden\", \"afspraak_verzenden_beschikking_i_v_m__niet_voldoen_aan_wet_taaleis\", \"belemmering_dagen_lichamelijke_problematiek\", \"belemmering_dagen_psychische_problemen\", \"belemmering_hist_lichamelijke_problematiek\", \"belemmering_hist_psychische_problemen\", \"belemmering_hist_taal\", \"belemmering_hist_verslavingsproblematiek\", \"belemmering_niet_computervaardig\", \"belemmering_psychische_problemen\", \"beschikbaarheid_aantal_historie_afwijkend_wegens_medische_omstandigheden\", \"beschikbaarheid_huidig_afwijkend_wegens_medische_omstandigheden\", \"beschikbaarheid_recent_afwijkend_wegens_medische_omstandigheden\", \"competentie_vakdeskundigheid_toepassen\", \"contacten_onderwerp_beoordelen_taaleis\", \"contacten_onderwerp_boolean_beoordelen_taaleis\", \"contacten_onderwerp_boolean_taaleis___voldoet\", \"contacten_onderwerp_boolean_ziek__of_afmelding\", \"contacten_onderwerp_boolean_zorg\", \"contacten_onderwerp_ziek__of_afmelding\", \"contacten_onderwerp_zorg\", \"instrument_aantal_laatstejaar\", \"ontheffing_dagen_hist_vanwege_uw_medische_omstandigheden\", \"ontheffing_reden_hist_medische_gronden\", \"persoon_geslacht_vrouw\", \"persoon_leeftijd_bij_onderzoek\", \"persoonlijke_eigenschappen_dagen_sinds_taaleis\", \"persoonlijke_eigenschappen_nl_begrijpen3\", \"persoonlijke_eigenschappen_nl_lezen3\", \"persoonlijke_eigenschappen_nl_lezen4\", \"persoonlijke_eigenschappen_nl_schrijven0\", \"persoonlijke_eigenschappen_nl_schrijven1\", \"persoonlijke_eigenschappen_nl_schrijven2\", \"persoonlijke_eigenschappen_nl_schrijven3\", \"persoonlijke_eigenschappen_nl_schrijvenfalse\", \"persoonlijke_eigenschappen_nl_spreken1\", \"persoonlijke_eigenschappen_nl_spreken2\", \"persoonlijke_eigenschappen_nl_spreken3\", \"persoonlijke_eigenschappen_spreektaal\", \"persoonlijke_eigenschappen_spreektaal_anders\", \"persoonlijke_eigenschappen_taaleis_schrijfv_ok\", \"persoonlijke_eigenschappen_taaleis_voldaan\", \"relatie_kind_basisschool_kind\", \"relatie_kind_heeft_kinderen\", \"relatie_kind_huidige_aantal\", \"relatie_kind_jongvolwassen\", \"relatie_kind_tiener\", \"relatie_kind_volwassen\", \"relatie_overig_actueel_vorm__kostendeler\", \"relatie_overig_actueel_vorm__ouders_verzorgers\", \"relatie_overig_historie_vorm__andere_inwonende\", \"relatie_overig_historie_vorm__kostendeler\", \"relatie_overig_kostendeler\", \"relatie_partner_aantal_partner___partner__gehuwd_\", \"relatie_partner_aantal_partner___partner__ongehuwd_\", \"relatie_partner_huidige_partner___partner__gehuwd_\", \"relatie_partner_totaal_dagen_partner\"\n",
    "]"
   ]
  },
  {
   "cell_type": "code",
   "execution_count": 10,
   "metadata": {
    "ExecuteTime": {
     "end_time": "2025-01-24T12:38:30.651588800Z",
     "start_time": "2025-01-24T12:38:30.601199600Z"
    }
   },
   "outputs": [],
   "source": [
    "unique_subgroups = {}\n",
    "for k in sensitive_features:\n",
    "    unique_subgroups[k] = test_df[k].unique().tolist()"
   ]
  },
  {
   "cell_type": "code",
   "execution_count": 11,
   "metadata": {
    "ExecuteTime": {
     "end_time": "2025-01-24T12:38:31.837449900Z",
     "start_time": "2025-01-24T12:38:31.704403400Z"
    }
   },
   "outputs": [
    {
     "name": "stdout",
     "output_type": "stream",
     "text": [
      "(32500, 317)\n"
     ]
    }
   ],
   "source": [
    "pred_column = result\n",
    "test_df['Prediction'] = pred_column\n",
    "\n",
    "print(test_df.shape)"
   ]
  },
  {
   "cell_type": "markdown",
   "source": [
    "Fairness Testing for all sensitive features"
   ],
   "metadata": {
    "collapsed": false
   }
  },
  {
   "cell_type": "code",
   "execution_count": 12,
   "outputs": [],
   "source": [
    "#false positive - actual - false and prediction - true\n",
    "#false negative - actual - true and prediction - false\n",
    "#true positive - actual - true and prediction -true\n",
    "#true negative - actual - false and prediction - false"
   ],
   "metadata": {
    "collapsed": false,
    "ExecuteTime": {
     "end_time": "2025-01-16T01:34:00.511053400Z",
     "start_time": "2025-01-16T01:34:00.436127600Z"
    }
   }
  },
  {
   "cell_type": "code",
   "execution_count": 45,
   "metadata": {
    "ExecuteTime": {
     "end_time": "2025-01-16T15:42:12.427874200Z",
     "start_time": "2025-01-16T15:42:12.380816500Z"
    }
   },
   "outputs": [],
   "source": [
    "def statistical_parity(feature, categories, df):\n",
    "    results = {}\n",
    "    if len(categories)>2: \n",
    "        # mean_val = np.mean(df[feature])\n",
    "        if feature == 'persoon_leeftijd_bij_onderzoek':\n",
    "            mean_val = -1.9034432\n",
    "        else:\n",
    "            mean_val = np.mean(df[feature]) \n",
    "        category_labels = [\"less_than_mean\", \"greater_than_mean\"]\n",
    "        df[\"subgroups\"] = np.where(df[feature] <= mean_val, category_labels[0], category_labels[1])\n",
    "    else:  \n",
    "        df[\"subgroups\"] = df[feature]\n",
    "    grouped = df.groupby(\"subgroups\")\n",
    "    for group, data in grouped:\n",
    "        positives = ((data[\"Prediction\"] == 1)).sum()\n",
    "        all = ((data[\"Prediction\"] == 1) | (data[\"Prediction\"] == 0)).sum()\n",
    "        result = positives / all\n",
    "        results[(feature, group)] = result\n",
    "    return results"
   ]
  },
  {
   "cell_type": "code",
   "execution_count": 29,
   "outputs": [
    {
     "name": "stdout",
     "output_type": "stream",
     "text": [
      "153\n"
     ]
    }
   ],
   "source": [
    "sp_dict = {}\n",
    "for feature, categories in unique_subgroups.items():\n",
    "    stats = statistical_parity(feature, categories, test_df)\n",
    "    sp_dict.update(stats)\n",
    "print(sp_dict.keys())"
   ],
   "metadata": {
    "collapsed": false,
    "ExecuteTime": {
     "end_time": "2025-01-16T10:21:55.051787300Z",
     "start_time": "2025-01-16T10:21:51.838957100Z"
    }
   }
  },
  {
   "cell_type": "code",
   "execution_count": 27,
   "outputs": [
    {
     "name": "stdout",
     "output_type": "stream",
     "text": [
      "CSV file 'sp_dict_model2.csv' saved successfully!\n"
     ]
    }
   ],
   "source": [
    "# df = pd.DataFrame([\n",
    "#     {\"Feature\": feature, \"Category\": category, \"Value\": value}\n",
    "#     for (feature, category), value in sp_dict.items()\n",
    "# ])\n",
    "# \n",
    "# # Save to CSV file\n",
    "# csv_filename = \"sp_dict_model2.csv\"\n",
    "# df.to_csv(csv_filename, index=False)\n",
    "# \n",
    "# print(f\"CSV file '{csv_filename}' saved successfully!\")"
   ],
   "metadata": {
    "collapsed": false,
    "ExecuteTime": {
     "end_time": "2025-01-16T10:15:11.333353700Z",
     "start_time": "2025-01-16T10:15:11.314832100Z"
    }
   }
  },
  {
   "cell_type": "markdown",
   "source": [
    "Partition Testing"
   ],
   "metadata": {
    "collapsed": false
   }
  },
  {
   "cell_type": "code",
   "execution_count": 28,
   "outputs": [],
   "source": [
    "def statistical_parity_parition(feature1, feature2, df):\n",
    "    results = {}\n",
    "    df[f\"{feature1}_group\"] = np.where(df[feature1] == 0, \"male\", \"female\")\n",
    "    # df[f\"{feature1}_group\"] = np.where(df[feature1] == 0, \"notFluent\", \"fluent\")\n",
    "    # df[f\"{feature2}_group\"] = np.where(df[feature2] == 0, \"unmarried\", \"married\")\n",
    "    df[f\"{feature2}_group\"] = np.where(df[feature2] <= np.mean(df[feature2]), \"lessAppointment\", \"moreAppointment\")\n",
    "    df[\"combined_subgroups\"] = df[[f\"{feature1}_group\", f\"{feature2}_group\"]].apply(\n",
    "        lambda row: f\"{row[0]}_{row[1]}\", axis=1\n",
    "    )  #would result in feature1_feature2 --> less_greater\n",
    "\n",
    "    unique_combinations = set()\n",
    "    grouped = df.groupby(\"combined_subgroups\")\n",
    "    \n",
    "    for group, data in grouped:\n",
    "        parts = group.split(\"_\")\n",
    "        if group in unique_combinations or \"_\".join(reversed(parts)) in unique_combinations:\n",
    "            continue\n",
    "        if parts[0] == parts[1]:\n",
    "            continue\n",
    "        unique_combinations.add(group)\n",
    "        positives = ((data[\"Prediction\"] == 1)).sum()\n",
    "        all = ((data[\"Prediction\"] == 1) | (data[\"Prediction\"] == 0)).sum()\n",
    "        result = positives / all\n",
    "        results[(group)] = result\n",
    "        \n",
    "    return results"
   ],
   "metadata": {
    "collapsed": false,
    "ExecuteTime": {
     "end_time": "2025-01-24T13:22:29.299483200Z",
     "start_time": "2025-01-24T13:22:29.269759700Z"
    }
   }
  },
  {
   "cell_type": "code",
   "execution_count": 29,
   "outputs": [
    {
     "name": "stderr",
     "output_type": "stream",
     "text": [
      "C:\\Users\\HP Zbook\\AppData\\Local\\Temp\\ipykernel_42392\\3813072749.py:8: FutureWarning: Series.__getitem__ treating keys as positions is deprecated. In a future version, integer keys will always be treated as labels (consistent with DataFrame behavior). To access a value by position, use `ser.iloc[pos]`\n",
      "  lambda row: f\"{row[0]}_{row[1]}\", axis=1\n"
     ]
    },
    {
     "name": "stdout",
     "output_type": "stream",
     "text": [
      "{'female_lessAppointment': 0.0446465768643244, 'female_moreAppointment': 0.02736842105263158, 'male_lessAppointment': 0.050110922615163776, 'male_moreAppointment': 0.03192279138827023}\n"
     ]
    }
   ],
   "source": [
    "#replace feature names to compute the parition statistical parity values\n",
    "results = statistical_parity_parition(\"persoon_geslacht_vrouw\", \"afspraak_afgelopen_jaar_ontheffing_taaleis\", test_df)\n",
    "print(results)"
   ],
   "metadata": {
    "collapsed": false,
    "ExecuteTime": {
     "end_time": "2025-01-24T13:22:31.148565100Z",
     "start_time": "2025-01-24T13:22:29.913856900Z"
    }
   }
  },
  {
   "cell_type": "code",
   "execution_count": null,
   "outputs": [],
   "source": [
    "fig, ax = plt.subplots()\n",
    "ax.bar(results.keys(), results.values(), color='blue')\n",
    "ax.set_ylabel('Values')\n",
    "ax.set_title('Appointment Data Visualization')\n",
    "ax.tick_params(axis='x', labelrotation=45, labelbottom=True)  \n",
    "plt.show()"
   ],
   "metadata": {
    "collapsed": false
   }
  },
  {
   "cell_type": "code",
   "execution_count": 30,
   "outputs": [
    {
     "data": {
      "text/plain": "<Figure size 640x480 with 1 Axes>",
      "image/png": "[encoded data removed]"
     },
     "metadata": {},
     "output_type": "display_data"
    }
   ],
   "source": [
    "#difference between each partitions\n",
    "diff = abs(results[\"fluent_married\"] - results[\"fluent_unmarried\"])\n",
    "print(\"diff fluent_married-fluent_unmarried\", diff)\n",
    "diff1 = abs(results[\"notFluent_married\"] - results[\"notFluent_unmarried\"])\n",
    "print(\"diff notFluent_married-notFluent_unmarried\", diff1)\n",
    "diff2 = abs(results[\"fluent_married\"] - results[\"notFluent_married\"])\n",
    "print(\"diff fluent_married-notFluent_married\", diff2)\n",
    "diff3 = abs(results[\"fluent_unmarried\"] - results[\"notFluent_unmarried\"])\n",
    "print(\"diff fluent_unmarried-notFluent_unmarried\", diff3)\n",
    "diff4 = abs(results[\"fluent_married\"] - results[\"notFluent_unmarried\"])\n",
    "print(\"diff fluent_married-notFluent_unmarried\", diff4)\n",
    "diff5 = abs(results[\"notFluent_married\"] - results[\"fluent_unmarried\"])\n",
    "print(\"diff notFluent_married-fluent_unmarried\", diff5)"
   ],
   "metadata": {
    "collapsed": false,
    "ExecuteTime": {
     "end_time": "2025-01-24T13:23:06.367457Z",
     "start_time": "2025-01-24T13:23:06.251234Z"
    }
   }
  },
  {
   "cell_type": "code",
   "execution_count": 16,
   "outputs": [
    {
     "ename": "KeyError",
     "evalue": "'fluent_married'",
     "output_type": "error",
     "traceback": [
      "\u001B[1;31m---------------------------------------------------------------------------\u001B[0m",
      "\u001B[1;31mKeyError\u001B[0m                                  Traceback (most recent call last)",
      "Cell \u001B[1;32mIn[16], line 2\u001B[0m\n\u001B[0;32m      1\u001B[0m differences \u001B[38;5;241m=\u001B[39m {\n\u001B[1;32m----> 2\u001B[0m     \u001B[38;5;124m\"\u001B[39m\u001B[38;5;124mfluent_married-fluent_unmarried\u001B[39m\u001B[38;5;124m\"\u001B[39m: \u001B[38;5;28mabs\u001B[39m(\u001B[43mresults\u001B[49m\u001B[43m[\u001B[49m\u001B[38;5;124;43m\"\u001B[39;49m\u001B[38;5;124;43mfluent_married\u001B[39;49m\u001B[38;5;124;43m\"\u001B[39;49m\u001B[43m]\u001B[49m \u001B[38;5;241m-\u001B[39m results[\u001B[38;5;124m\"\u001B[39m\u001B[38;5;124mfluent_unmarried\u001B[39m\u001B[38;5;124m\"\u001B[39m]),\n\u001B[0;32m      3\u001B[0m     \u001B[38;5;124m\"\u001B[39m\u001B[38;5;124mnotFluent_married-notFluent_unmarried\u001B[39m\u001B[38;5;124m\"\u001B[39m: \u001B[38;5;28mabs\u001B[39m(results[\u001B[38;5;124m\"\u001B[39m\u001B[38;5;124mnotFluent_married\u001B[39m\u001B[38;5;124m\"\u001B[39m] \u001B[38;5;241m-\u001B[39m results[\u001B[38;5;124m\"\u001B[39m\u001B[38;5;124mnotFluent_unmarried\u001B[39m\u001B[38;5;124m\"\u001B[39m]),\n\u001B[0;32m      4\u001B[0m     \u001B[38;5;124m\"\u001B[39m\u001B[38;5;124mfluent_married-notFluent_married\u001B[39m\u001B[38;5;124m\"\u001B[39m: \u001B[38;5;28mabs\u001B[39m(results[\u001B[38;5;124m\"\u001B[39m\u001B[38;5;124mfluent_married\u001B[39m\u001B[38;5;124m\"\u001B[39m] \u001B[38;5;241m-\u001B[39m results[\u001B[38;5;124m\"\u001B[39m\u001B[38;5;124mnotFluent_married\u001B[39m\u001B[38;5;124m\"\u001B[39m]),\n\u001B[0;32m      5\u001B[0m     \u001B[38;5;124m\"\u001B[39m\u001B[38;5;124mfluent_unmarried-notFluent_unmarried\u001B[39m\u001B[38;5;124m\"\u001B[39m: \u001B[38;5;28mabs\u001B[39m(results[\u001B[38;5;124m\"\u001B[39m\u001B[38;5;124mfluent_unmarried\u001B[39m\u001B[38;5;124m\"\u001B[39m] \u001B[38;5;241m-\u001B[39m results[\u001B[38;5;124m\"\u001B[39m\u001B[38;5;124mnotFluent_unmarried\u001B[39m\u001B[38;5;124m\"\u001B[39m]),\n\u001B[0;32m      6\u001B[0m     \u001B[38;5;124m\"\u001B[39m\u001B[38;5;124mfluent_married-notFluent_unmarried\u001B[39m\u001B[38;5;124m\"\u001B[39m: \u001B[38;5;28mabs\u001B[39m(results[\u001B[38;5;124m\"\u001B[39m\u001B[38;5;124mfluent_married\u001B[39m\u001B[38;5;124m\"\u001B[39m] \u001B[38;5;241m-\u001B[39m results[\u001B[38;5;124m\"\u001B[39m\u001B[38;5;124mnotFluent_unmarried\u001B[39m\u001B[38;5;124m\"\u001B[39m]),\n\u001B[0;32m      7\u001B[0m     \u001B[38;5;124m\"\u001B[39m\u001B[38;5;124mnotFluent_married-fluent_unmarried\u001B[39m\u001B[38;5;124m\"\u001B[39m: \u001B[38;5;28mabs\u001B[39m(results[\u001B[38;5;124m\"\u001B[39m\u001B[38;5;124mnotFluent_married\u001B[39m\u001B[38;5;124m\"\u001B[39m] \u001B[38;5;241m-\u001B[39m results[\u001B[38;5;124m\"\u001B[39m\u001B[38;5;124mfluent_unmarried\u001B[39m\u001B[38;5;124m\"\u001B[39m])\n\u001B[0;32m      8\u001B[0m }\n\u001B[0;32m     10\u001B[0m \u001B[38;5;66;03m# Print the dictionary (Optional)\u001B[39;00m\n\u001B[0;32m     11\u001B[0m \u001B[38;5;28mprint\u001B[39m(differences)\n",
      "\u001B[1;31mKeyError\u001B[0m: 'fluent_married'"
     ]
    }
   ],
   "source": [
    "differences = {\n",
    "    \"fluent_married-fluent_unmarried\": abs(results[\"fluent_married\"] - results[\"fluent_unmarried\"]),\n",
    "    \"notFluent_married-notFluent_unmarried\": abs(results[\"notFluent_married\"] - results[\"notFluent_unmarried\"]),\n",
    "    \"fluent_married-notFluent_married\": abs(results[\"fluent_married\"] - results[\"notFluent_married\"]),\n",
    "    \"fluent_unmarried-notFluent_unmarried\": abs(results[\"fluent_unmarried\"] - results[\"notFluent_unmarried\"]),\n",
    "    \"fluent_married-notFluent_unmarried\": abs(results[\"fluent_married\"] - results[\"notFluent_unmarried\"]),\n",
    "    \"notFluent_married-fluent_unmarried\": abs(results[\"notFluent_married\"] - results[\"fluent_unmarried\"])\n",
    "}\n",
    "\n",
    "# Print the dictionary (Optional)\n",
    "print(differences)"
   ],
   "metadata": {
    "collapsed": false,
    "ExecuteTime": {
     "end_time": "2025-01-24T13:13:02.641583Z",
     "start_time": "2025-01-24T13:13:02.586604700Z"
    }
   }
  },
  {
   "cell_type": "code",
   "execution_count": 17,
   "outputs": [],
   "source": [
    "df = pd.DataFrame(list(differences.items()), columns=[\"Comparison\", \"Difference\"])\n",
    "\n",
    "# Save as CSV file\n",
    "csv_filename = \"partition_testing/statistical_parity_speaking_maritalStatus_model2.csv\"\n",
    "df.to_csv(csv_filename, index=False)\n",
    "\n",
    "print(f\"CSV file '{csv_filename}' saved successfully!\")"
   ],
   "metadata": {
    "collapsed": false,
    "ExecuteTime": {
     "end_time": "2025-01-24T13:13:12.792069800Z",
     "start_time": "2025-01-24T13:13:12.761469700Z"
    }
   }
  },
  {
   "cell_type": "code",
   "execution_count": null,
   "outputs": [],
   "source": [
    "    "
   ],
   "metadata": {
    "collapsed": false
   }
  }
 ],
 "metadata": {
  "kernelspec": {
   "display_name": "Python 3",
   "language": "python",
   "name": "python3"
  },
  "language_info": {
   "codemirror_mode": {
    "name": "ipython",
    "version": 3
   },
   "file_extension": ".py",
   "mimetype": "text/x-python",
   "name": "python",
   "nbconvert_exporter": "python",
   "pygments_lexer": "ipython3",
   "version": "3.11.2"
  }
 },
 "nbformat": 4,
 "nbformat_minor": 2
}
