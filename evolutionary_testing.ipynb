{
 "cells": [
  {
   "cell_type": "code",
   "execution_count": 1,
   "metadata": {},
   "outputs": [],
   "source": [
    "import onnx\n",
    "import random\n",
    "import onnxruntime as rt\n",
    "import numpy as np\n",
    "import pandas as pd\n",
    "from sklearn.metrics import accuracy_score"
   ]
  },
  {
   "cell_type": "code",
   "execution_count": 2,
   "metadata": {},
   "outputs": [],
   "source": [
    "onnx_model = onnx.load(\"model_2.onnx\")\n",
    "onnx.checker.check_model(onnx_model)"
   ]
  },
  {
   "cell_type": "code",
   "execution_count": 4,
   "metadata": {},
   "outputs": [],
   "source": [
    "## GENETIC testing pseudocode\n",
    "# 1. initialize population\n",
    "#   each individual should be an individual: a set of values for each feature\n",
    "# 2. selection\n",
    "# 3. crossover\n",
    "# 4. mutation\n",
    "# 5. repeat 2-4 until steps OR evil test case found idk\n",
    "# \n",
    "\n",
    "# APPROACH:\n",
    "# 1. Take a set of non-sensitive features. \n",
    "# 2. Run two evolutionary searches over sensitive features: one to find the most \"suspect\" individual, one to find the least \"suspect\" individual for those non-senstitive features.\n",
    "# \n",
    "\n",
    "# GOAL: to find test cases where the model does badly. "
   ]
  },
  {
   "cell_type": "code",
   "execution_count": 5,
   "metadata": {},
   "outputs": [],
   "source": [
    "sensitive_features = [\n",
    "    \"adres_dagen_op_adres\",\n",
    "    \"adres_recentste_buurt_groot_ijsselmonde\",\n",
    "    \"adres_recentste_buurt_nieuwe_westen\",\n",
    "    \"adres_recentste_buurt_other\",\n",
    "    \"adres_recentste_buurt_oude_noorden\",\n",
    "    \"adres_recentste_buurt_vreewijk\",\n",
    "    \"adres_recentste_plaats_other\",\n",
    "    \"adres_recentste_plaats_rotterdam\",\n",
    "    \"adres_recentste_wijk_charlois\",\n",
    "    \"adres_recentste_wijk_delfshaven\",\n",
    "    \"adres_recentste_wijk_feijenoord\",\n",
    "    \"adres_recentste_wijk_ijsselmonde\",\n",
    "    \"adres_recentste_wijk_kralingen_c\",\n",
    "    \"adres_recentste_wijk_noord\",\n",
    "    \"adres_recentste_wijk_other\",\n",
    "    \"adres_recentste_wijk_prins_alexa\",\n",
    "    \"adres_recentste_wijk_stadscentru\",\n",
    "    \"afspraak_aantal_woorden\",\n",
    "    \"afspraak_afgelopen_jaar_monitoring_insp__wet_taaleis_na_12_mnd_n_a_v__taa04_____geen_maatregel\",\n",
    "    \"afspraak_afgelopen_jaar_ontheffing_taaleis\",\n",
    "    \"afspraak_laatstejaar_aantal_woorden\",\n",
    "    \"afspraak_verzenden_beschikking_i_v_m__niet_voldoen_aan_wet_taaleis\",\n",
    "    \"belemmering_dagen_lichamelijke_problematiek\",\n",
    "    \"belemmering_dagen_psychische_problemen\",\n",
    "    \"belemmering_hist_lichamelijke_problematiek\",\n",
    "    \"belemmering_hist_psychische_problemen\",\n",
    "    \"belemmering_hist_taal\",\n",
    "    \"belemmering_hist_verslavingsproblematiek\",\n",
    "    \"belemmering_niet_computervaardig\",\n",
    "    \"belemmering_psychische_problemen\",\n",
    "    \"beschikbaarheid_aantal_historie_afwijkend_wegens_medische_omstandigheden\",\n",
    "    \"beschikbaarheid_huidig_afwijkend_wegens_medische_omstandigheden\",\n",
    "    \"beschikbaarheid_recent_afwijkend_wegens_medische_omstandigheden\",\n",
    "    \"competentie_vakdeskundigheid_toepassen\",\n",
    "    \"contacten_onderwerp_beoordelen_taaleis\",\n",
    "    \"contacten_onderwerp_boolean_beoordelen_taaleis\",\n",
    "    \"contacten_onderwerp_boolean_taaleis___voldoet\",\n",
    "    \"contacten_onderwerp_boolean_ziek__of_afmelding\",\n",
    "    \"contacten_onderwerp_boolean_zorg\",\n",
    "    \"contacten_onderwerp_ziek__of_afmelding\",\n",
    "    \"contacten_onderwerp_zorg\",\n",
    "    \"instrument_aantal_laatstejaar\",\n",
    "    \"ontheffing_dagen_hist_vanwege_uw_medische_omstandigheden\",\n",
    "    \"ontheffing_reden_hist_medische_gronden\",\n",
    "    \"persoon_geslacht_vrouw\",\n",
    "    \"persoon_leeftijd_bij_onderzoek\",\n",
    "    \"persoonlijke_eigenschappen_dagen_sinds_taaleis\",\n",
    "    \"persoonlijke_eigenschappen_nl_begrijpen3\",\n",
    "    \"persoonlijke_eigenschappen_nl_lezen3\",\n",
    "    \"persoonlijke_eigenschappen_nl_lezen4\",\n",
    "    \"persoonlijke_eigenschappen_nl_schrijven0\",\n",
    "    \"persoonlijke_eigenschappen_nl_schrijven1\",\n",
    "    \"persoonlijke_eigenschappen_nl_schrijven2\",\n",
    "    \"persoonlijke_eigenschappen_nl_schrijven3\",\n",
    "    \"persoonlijke_eigenschappen_nl_schrijvenfalse\",\n",
    "    \"persoonlijke_eigenschappen_nl_spreken1\",\n",
    "    \"persoonlijke_eigenschappen_nl_spreken2\",\n",
    "    \"persoonlijke_eigenschappen_nl_spreken3\",\n",
    "    \"persoonlijke_eigenschappen_spreektaal\",\n",
    "    \"persoonlijke_eigenschappen_spreektaal_anders\",\n",
    "    \"persoonlijke_eigenschappen_taaleis_schrijfv_ok\",\n",
    "    \"persoonlijke_eigenschappen_taaleis_voldaan\",\n",
    "    \"relatie_kind_basisschool_kind\",\n",
    "    \"relatie_kind_heeft_kinderen\",\n",
    "    \"relatie_kind_huidige_aantal\",\n",
    "    \"relatie_kind_jongvolwassen\",\n",
    "    \"relatie_kind_tiener\",\n",
    "    \"relatie_kind_volwassen\",\n",
    "    \"relatie_overig_actueel_vorm__kostendeler\",\n",
    "    \"relatie_overig_actueel_vorm__ouders_verzorgers\",\n",
    "    \"relatie_overig_historie_vorm__andere_inwonende\",\n",
    "    \"relatie_overig_historie_vorm__kostendeler\",\n",
    "    \"relatie_overig_kostendeler\",\n",
    "    \"relatie_partner_aantal_partner___partner__gehuwd_\",\n",
    "    \"relatie_partner_aantal_partner___partner__ongehuwd_\",\n",
    "    \"relatie_partner_huidige_partner___partner__gehuwd_\",\n",
    "    \"relatie_partner_totaal_dagen_partner\"\n",
    "]"
   ]
  },
  {
   "cell_type": "code",
   "execution_count": 6,
   "metadata": {},
   "outputs": [],
   "source": [
    "# sensitives and nonsensitives are dictionaries\n",
    "# we need the creation of a dictionary with the possible values for each feature in the dataset\n",
    "import pandas as pd\n",
    "\n",
    "dataset = pd.read_csv(\"C:/Users/kovac/Downloads/investigation_train_large_checked.csv\")\n",
    "dataset = dataset.drop(['Ja', 'Nee', 'checked'], axis=1)\n",
    "\n",
    "possible_sensitives = {}\n",
    "possible_nonsensitives = {}\n",
    "\n",
    "for feature in dataset.columns:\n",
    "    unique_values = dataset[feature].unique().tolist()\n",
    "    if feature in sensitive_features:\n",
    "        possible_sensitives[feature] = unique_values\n",
    "    else:\n",
    "        possible_nonsensitives[feature] = unique_values"
   ]
  },
  {
   "cell_type": "code",
   "execution_count": 7,
   "metadata": {},
   "outputs": [],
   "source": [
    "class Individual:\n",
    "    def __init__(self, sensitives, nonsensitives):\n",
    "        self.sensitives = sensitives\n",
    "        self.nonsensitives = nonsensitives\n",
    "    \n",
    "    def fullfeatures(self):\n",
    "        #combine the sensitive and non sensitive features\n",
    "        return self.sensitives | self.nonsensitives"
   ]
  },
  {
   "cell_type": "code",
   "execution_count": 8,
   "metadata": {},
   "outputs": [],
   "source": [
    "#create an initial population, where each individual has the same nonsensitive features.\n",
    "def initialize_population(population_size, nonsensitives):\n",
    "    population = []\n",
    "    for i in range(population_size):\n",
    "        #generate random sensitive features\n",
    "        sensitives = {}\n",
    "        for sensitive_feature in sensitive_features:\n",
    "            sensitives[sensitive_feature] = random.choice(possible_sensitives[sensitive_feature])\n",
    "        #create and add individual\n",
    "        population.append(Individual(sensitives, nonsensitives))\n",
    "    return population"
   ]
  },
  {
   "cell_type": "code",
   "execution_count": 9,
   "metadata": {},
   "outputs": [],
   "source": [
    "#given a population and a fitness function, create a \"survivor population\" using tournament selection\n",
    "def selection(population, fitness_function):\n",
    "    survivors = []\n",
    "    for i in range(len(population)):\n",
    "        fighter1 = random.choice(population)\n",
    "        fighter2 = random.choice(population)\n",
    "        score1 = fitness_function(fighter1)\n",
    "        score2 = fitness_function(fighter2)\n",
    "        winner = fighter1 if score1 > score2 else fighter2\n",
    "        survivors.append(winner)\n",
    "    return survivors"
   ]
  },
  {
   "cell_type": "code",
   "execution_count": 10,
   "metadata": {},
   "outputs": [],
   "source": [
    "#given a population, create a new population with single-point crossover \n",
    "def crossover(population, crossover_probability):\n",
    "    # take two parents, and either cross them or dont, and then add them to the new population\n",
    "    children = []\n",
    "    for i in range(int(len(population)/2)):\n",
    "        parent1 = random.choice(population)\n",
    "        parent2 = random.choice(population)\n",
    "        child1 = parent1\n",
    "        child2 = parent2\n",
    "        if random.random() < crossover_probability:\n",
    "            crossover_point = random.randint(0, len(child1.sensitives)) \n",
    "            for i in range(crossover_point, len(child1.sensitives.keys())):\n",
    "                child1.sensitives[list(child1.sensitives.keys())[i]] = parent2.sensitives[list(parent2.sensitives.keys())[i]]\n",
    "                child2.sensitives[list(child2.sensitives.keys())[i]] = parent1.sensitives[list(parent1.sensitives.keys())[i]]\n",
    "        children.append(child1)\n",
    "        children.append(child2)\n",
    "    return children"
   ]
  },
  {
   "cell_type": "code",
   "execution_count": 11,
   "metadata": {},
   "outputs": [],
   "source": [
    "#mutate each individual; each feature is changed with chance 1/numberoffeatures to some random value in that feature\n",
    "#is this too aggressive mutation?\n",
    "def mutation(population):\n",
    "    for person in population:\n",
    "        features = person.sensitives.keys()\n",
    "        for feature in features:\n",
    "            if random.random() < (1/len(features)):\n",
    "                person.sensitives[feature] = random.choice(possible_sensitives[feature]) #now i take a completely random, so same can be retaken\n",
    "    return population"
   ]
  },
  {
   "cell_type": "markdown",
   "metadata": {},
   "source": [
    "### EXPERIMENTS"
   ]
  },
  {
   "cell_type": "code",
   "execution_count": 12,
   "metadata": {},
   "outputs": [
    {
     "name": "stdout",
     "output_type": "stream",
     "text": [
      "{'adres_aantal_brp_adres': 1, 'adres_aantal_verschillende_wijken': 7, 'adres_aantal_verzendadres': 0, 'adres_aantal_woonadres_handmatig': 1, 'adres_recentst_onderdeel_rdam': 1, 'adres_unieke_wijk_ratio': 0, 'afspraak_aanmelding_afgesloten': 7, 'afspraak_afgelopen_jaar_afsprakenplan': 0, 'afspraak_afgelopen_jaar_ontheffing': 2, 'afspraak_afgelopen_jaar_plan_van_aanpak': 2, 'afspraak_afgelopen_jaar_signaal_voor_medewerker': 11, 'afspraak_afgelopen_jaar_vervolgmeting_matchbaarheid_werkzoekende_klant': 1, 'afspraak_afgelopen_jaar_voortgang_aanmelding_en_deelname': 5, 'afspraak_afsprakenplan': 3, 'afspraak_controle_aankondiging_maatregel': 3, 'afspraak_controle_verwijzing': 0, 'afspraak_deelname_compleet_uit_webapplicatie': 3, 'afspraak_galo_gesprek': 3, 'afspraak_gespr__einde_zoekt___galo_gesprek_': 2, 'afspraak_inspanningsperiode': 2, 'afspraak_laatstejaar_resultaat_ingevuld': 5, 'afspraak_laatstejaar_resultaat_ingevuld_uniek': 0, 'afspraak_other': 5, 'afspraak_participatietrede_vervolgmeting': 4, 'afspraak_resultaat_ingevuld_uniek': 6, 'afspraak_signaal_van_aanbieder': 7, 'afspraak_signaal_voor_medewerker': 4, 'afspraak_toevoegen_inschrijving_uwvwb': 1, 'afspraak_vervolgmeting_matchbaarheid_werkzoekende_klant': 0, 'afspraak_voortgangsgesprek': 0, 'belemmering_aantal_huidig': 0, 'belemmering_dagen_financiele_problemen': -5954, 'belemmering_financiele_problemen': 0, 'belemmering_hist_stabiele_mix__sz____dagbesteding_werk': 1, 'belemmering_ind': 0, 'belemmering_ind_hist': 1, 'belemmering_woonsituatie': 0, 'beschikbaarheid_aantal_historie_afwijkend_wegens_sociaal_maatschappelijke_situatie': 1, 'beschikbaarheid_huidig_bekend': 1, 'beschikbaarheid_recent_afwijkend_wegens_sociaal_maatschappelijke_situatie': 0, 'competentie_aansturen': 0, 'competentie_analyseren': 2, 'competentie_ethisch_en_integer_handelen': 1, 'competentie_formuleren_en_rapporteren': 0, 'competentie_gedrevenheid_en_ambitie_tonen': 0, 'competentie_instructies_en_procedures_opvolgen': 2, 'competentie_kwaliteit_leveren': 0, 'competentie_leren': 2, 'competentie_materialen_en_middelen_inzetten': 0, 'competentie_met_druk_en_tegenslag_omgaan': 1, 'competentie_omgaan_met_verandering_en_aanpassen': 2, 'competentie_onderzoeken': 2, 'competentie_op_de_behoeften_en_verwachtingen_van_de__klant__richten': 1, 'competentie_other': 9, 'competentie_overtuigen_en_beïnvloeden': 0, 'competentie_plannen_en_organiseren': 2, 'competentie_samenwerken_en_overleggen': 2, 'contacten_onderwerp__arbeids_motivatie': 2, 'contacten_onderwerp__pre__intake': 1, 'contacten_onderwerp__werk_intake': 0, 'contacten_onderwerp_arbeidsdiagnose_dariuz': 1, 'contacten_onderwerp_boolean__arbeids_motivatie': 1, 'contacten_onderwerp_boolean__pre__intake': 1, 'contacten_onderwerp_boolean__werk_intake': 0, 'contacten_onderwerp_boolean_contact_derden': 0, 'contacten_onderwerp_boolean_contact_met_aanbieder': 0, 'contacten_onderwerp_boolean_diagnosegesprek': 0, 'contacten_onderwerp_boolean_documenten__innemen_': 1, 'contacten_onderwerp_boolean_documenttype__cv_': 1, 'contacten_onderwerp_boolean_documenttype__diploma_s_en_certificaten_': 1, 'contacten_onderwerp_boolean_documenttype__overeenkomst_': 0, 'contacten_onderwerp_boolean_financiële_situatie': 1, 'contacten_onderwerp_boolean_groepsbijeenkomst': 1, 'contacten_onderwerp_boolean_inkomen': 1, 'contacten_onderwerp_boolean_maatregel_overweging': 1, 'contacten_onderwerp_boolean_match___werk': 1, 'contacten_onderwerp_boolean_matching': 0, 'contacten_onderwerp_boolean_motivatie': 1, 'contacten_onderwerp_boolean_mutatie': 0, 'contacten_onderwerp_boolean_no_show': 0, 'contacten_onderwerp_boolean_overige': 0, 'contacten_onderwerp_boolean_overleg_met_inkomen': 1, 'contacten_onderwerp_boolean_scholing': 0, 'contacten_onderwerp_boolean_sollicitatie': 0, 'contacten_onderwerp_boolean_terugbelverzoek': 1, 'contacten_onderwerp_boolean_traject': 0, 'contacten_onderwerp_boolean_uitnodiging': 1, 'contacten_onderwerp_contact_derden': 9, 'contacten_onderwerp_contact_met_aanbieder': 2, 'contacten_onderwerp_diagnosegesprek': 2, 'contacten_onderwerp_documenten__innemen_': 7, 'contacten_onderwerp_documenttype__cv_': 0, 'contacten_onderwerp_documenttype__overeenkomst_': 6, 'contacten_onderwerp_financiële_situatie': 3, 'contacten_onderwerp_groepsbijeenkomst': 2, 'contacten_onderwerp_inkomen': 4, 'contacten_onderwerp_inname_aanvraag': 2, 'contacten_onderwerp_inspanningstoets': 0, 'contacten_onderwerp_maatregel_overweging': 2, 'contacten_onderwerp_matching': 11, 'contacten_onderwerp_mutatie': 2, 'contacten_onderwerp_no_show': 1, 'contacten_onderwerp_overige': 28, 'contacten_onderwerp_overleg_met_inkomen': 4, 'contacten_onderwerp_quickscan': 2, 'contacten_onderwerp_scholing': 4, 'contacten_onderwerp_screening': 1, 'contacten_onderwerp_terugbelverzoek': 15, 'contacten_onderwerp_traject': 11, 'contacten_onderwerp_uitnodiging': 2, 'contacten_onderwerp_vakantie': 1, 'contacten_onderwerp_werkintake__niet_verschenen': 2, 'contacten_soort_afgelopenjaar_anders': 6, 'contacten_soort_afgelopenjaar_document__inkomend_': 6, 'contacten_soort_afgelopenjaar_document__uitgaand_': 17, 'contacten_soort_afgelopenjaar_e_mail__inkomend_': 1, 'contacten_soort_afgelopenjaar_e_mail__uitgaand_': 3, 'contacten_soort_afgelopenjaar_gesprek': 1, 'contacten_soort_afgelopenjaar_gesprek_op_locatie': 0, 'contacten_soort_afgelopenjaar_rapportage_rib': 3, 'contacten_soort_afgelopenjaar_telefoontje__inkomend_': 2, 'contacten_soort_afgelopenjaar_telefoontje__uitgaand_': 3, 'contacten_soort_anders': 12, 'contacten_soort_document__inkomend_': 26, 'contacten_soort_document__uitgaand_': 61, 'contacten_soort_e_mail__inkomend_': 20, 'contacten_soort_e_mail__uitgaand_': 14, 'contacten_soort_gesprek_op_locatie': 1, 'contacten_soort_groepsbijeenkomsten': 1, 'contacten_soort_rapportage_deelname': 8, 'contacten_soort_rapportage_rib': 2, 'contacten_soort_telefoontje__inkomend_': 0, 'contacten_soort_telefoontje__uitgaand_': 13, 'deelname_act_actueel_projecten_uniek': 4, 'deelname_act_hist_projecten_niet_gestart': 4, 'deelname_act_reintegratieladder_ondersteunende_instrumenten': 5, 'deelname_act_reintegratieladder_werk_re_integratie': 5, 'instrument_ladder_historie_activering': 11, 'instrument_ladder_historie_other': 3, 'instrument_ladder_huidig_activering': 1, 'instrument_ladder_huidig_other': 2, 'instrument_ladder_huidig_werk_re_integratie': 2, 'instrument_reden_beeindiging_historie_centrale_actie_wigo4it': 1, 'instrument_reden_beeindiging_historie_diagnose_gesteld': 0, 'instrument_reden_beeindiging_historie_direct_matchbaar': 1, 'instrument_reden_beeindiging_historie_doelstelling_bereikt__geen_uitstroom': 3, 'instrument_reden_beeindiging_historie_doelstelling_bereikt__uitstroom_naar_regulier_werk': 0, 'instrument_reden_beeindiging_historie_doelstelling_bereikt__uitstroom_overig': 0, 'instrument_reden_beeindiging_historie_doelstelling_niet_bereikt__geen_uitstroom': 5, 'instrument_reden_beeindiging_historie_niet_matchbaar': 0, 'instrument_reden_beeindiging_historie_niet_succesvol': 3, 'instrument_reden_beeindiging_historie_niet_succesvol__reden_bij_werkzoekende': 1, 'instrument_reden_beeindiging_historie_op_termijn_matchbaar': 0, 'instrument_reden_beeindiging_historie_other': 2, 'instrument_reden_beeindiging_historie_overdracht_naar_mo': 0, 'instrument_reden_beeindiging_historie_overdracht_naar_prematching': 1, 'instrument_reden_beeindiging_historie_overdracht_naar_regulier_team_iwpm': 0, 'instrument_reden_beeindiging_historie_overdracht_succesvol': 0, 'instrument_reden_beeindiging_historie_succesvol': 7, 'instrument_reden_beeindiging_historie_succesvol__doelstelling_bereikt': 0, 'instrument_reden_beeindiging_historie_uitval__aanbod_niet_langer_zinvol_volgens_gemeente': 1, 'instrument_reden_beeindiging_historie_uitval__klant_wz__ziet_af_van_aanbod': 2, 'ontheffing_actueel_ind': 1, 'ontheffing_dagen_hist_mean': 622, 'ontheffing_hist_ind': 1, 'ontheffing_reden_hist_other': 1, 'ontheffing_reden_hist_sociale_gronden': 0, 'ontheffing_reden_hist_tijdelijke_ontheffing_arbeidsverpl__en_tegenprestatie': 0, 'ontheffing_reden_hist_tijdelijke_ontheffing_arbeidsverplichtingen': 1, 'ontheffing_reden_hist_vanwege_uw_sociaal_maatschappelijke_situatie': 1, 'ontheffing_reden_tijdelijke_ontheffing_arbeidsverpl__en_tegenprestatie': 1, 'persoonlijke_eigenschappen_communicatie_opm': 1, 'persoonlijke_eigenschappen_dagen_sinds_opvoer': 34, 'persoonlijke_eigenschappen_doorzettingsvermogen_opm': 0, 'persoonlijke_eigenschappen_flexibiliteit_opm': 1, 'persoonlijke_eigenschappen_hobbies_sport': 0, 'persoonlijke_eigenschappen_houding_opm': 1, 'persoonlijke_eigenschappen_ind_activering_traject': 0, 'persoonlijke_eigenschappen_ind_buiten_kantoortijden': 0, 'persoonlijke_eigenschappen_ind_regulier_arbeidsritme': 0, 'persoonlijke_eigenschappen_initiatief_opm': 0, 'persoonlijke_eigenschappen_leergierigheid_opm': 1, 'persoonlijke_eigenschappen_motivatie_opm': 0, 'persoonlijke_eigenschappen_opstelling': 0, 'persoonlijke_eigenschappen_overige_opmerkingen': 1, 'persoonlijke_eigenschappen_presentatie_opm': 0, 'persoonlijke_eigenschappen_uiterlijke_verzorging_opm': 0, 'persoonlijke_eigenschappen_uitstroom_verw_vlgs_klant': 3, 'persoonlijke_eigenschappen_uitstroom_verw_vlgs_km': 4, 'persoonlijke_eigenschappen_zelfstandigheid_opm': 1, 'pla_actueel_pla_categorie_doelstelling_16': 2, 'pla_actueel_pla_categorie_doelstelling_9': 1, 'pla_einde_doelstelling_bereikt': 2, 'pla_einde_doelstelling_bereikt__nieuw_trajectplan': 5, 'pla_einde_doelstelling_bereikt__overdracht': 2, 'pla_einde_doelstelling_niet_bereikt': 1, 'pla_einde_doelstelling_niet_bereikt__nieuw_trajectplan': 2, 'pla_einde_doelstelling_niet_bereikt__overdracht': 1, 'pla_einde_geplande_einddatum_overschreden_zonder_nader_bericht': 0, 'pla_einde_other': 2, 'pla_einde_uitstroom_anders_dan_volgen_onderwijs__regulier_werk_of_als_zelfstandige': 2, 'pla_hist_pla_categorie_doelstelling_1': 4, 'pla_hist_pla_categorie_doelstelling_10': 2, 'pla_hist_pla_categorie_doelstelling_11': 2, 'pla_hist_pla_categorie_doelstelling_16': 3, 'pla_hist_pla_categorie_doelstelling_2': 0, 'pla_hist_pla_categorie_doelstelling_27': 0, 'pla_hist_pla_categorie_doelstelling_3': 2, 'pla_hist_pla_categorie_doelstelling_4': 1, 'pla_hist_pla_categorie_doelstelling_5': 0, 'pla_hist_pla_categorie_doelstelling_6': 0, 'pla_hist_pla_categorie_doelstelling_9': 2, 'pla_hist_pla_categorie_doelstelling_other': 1, 'pla_historie_maatschappelijke_inspanning': 1, 'pla_historie_ontwikkeling': 1, 'pla_historie_other': 1, 'pla_historie_werk': 0, 'pla_historie_werk_en_inburgering': 0, 'pla_ondertekeningen_actueel': 2, 'pla_ondertekeningen_historie': 3, 'relatie_kind_leeftijd_verschil_ouder_eerste_kind': 13, 'relatie_overig_actueel_vorm__gemachtigde': 2, 'relatie_overig_actueel_vorm__onderhoudsplichtige': 2, 'relatie_overig_actueel_vorm_other': 1, 'relatie_overig_bewindvoerder': 1, 'relatie_overig_historie_vorm__gemachtigde': 3, 'relatie_overig_historie_vorm__onderhoudsplichtige': 0, 'typering_aantal': 1, 'typering_dagen_som': 1754, 'typering_hist_aantal': 5, 'typering_hist_inburgeringsbehoeftig': 1, 'typering_hist_ind': 0, 'typering_hist_sector_zorg': 1, 'typering_ind': 1, 'typering_indicatie_geheime_gegevens': 1, 'typering_other': 2, 'typering_transport__logistiek___tuinbouw': 0, 'typering_zorg__schoonmaak___welzijn': 1}\n"
     ]
    }
   ],
   "source": [
    "nonsensitives_experiment = {}\n",
    "for nonsensitive_feature in possible_nonsensitives.keys():\n",
    "    nonsensitives_experiment[nonsensitive_feature] = random.choice(possible_nonsensitives[nonsensitive_feature])\n",
    "print(nonsensitives_experiment)"
   ]
  },
  {
   "cell_type": "code",
   "execution_count": 23,
   "metadata": {},
   "outputs": [],
   "source": [
    "model_path = \"model_2.onnx\"\n",
    "sess = rt.InferenceSession(model_path)"
   ]
  },
  {
   "cell_type": "code",
   "execution_count": 14,
   "metadata": {},
   "outputs": [],
   "source": [
    "def build_input_data(sess, data):\n",
    "    \"\"\"\n",
    "    Builds the input_data dictionary for ONNX inference.\n",
    "\n",
    "    Parameters:\n",
    "    - sess: onnxruntime.InferenceSession, the ONNX model session.\n",
    "    - data: pandas.DataFrame or dict-like, the input data.\n",
    "\n",
    "    Returns:\n",
    "    - input_data: dict, formatted input data for the ONNX model.\n",
    "    \"\"\"\n",
    "    input_data = {}\n",
    "\n",
    "    for input_tensor in sess.get_inputs():\n",
    "        name = input_tensor.name\n",
    "        shape = input_tensor.shape  # Shape of the expected input (e.g., [None, 1])\n",
    "        data_type = input_tensor.type  # Expected data type (e.g., 'tensor(float)', 'tensor(string)')\n",
    "\n",
    "        # Extract the column from the input data\n",
    "        column_data = data[name]\n",
    "\n",
    "        # Ensure it's in the correct format\n",
    "        if \"float\" in data_type.lower():\n",
    "            input_data[name] = np.array(column_data).astype(np.float32).reshape(-1, shape[1] if len(shape) > 1 else 1)\n",
    "        elif \"string\" in data_type.lower():\n",
    "            input_data[name] = np.array(column_data).astype(str).reshape(-1, shape[1] if len(shape) > 1 else 1)\n",
    "        elif \"int64\" in data_type.lower():\n",
    "            input_data[name] = np.array(column_data).astype(np.int64).reshape(-1, shape[1] if len(shape) > 1 else 1)\n",
    "        else:\n",
    "            raise ValueError(f\"Unsupported data type for input '{name}': {data_type}\")\n",
    "\n",
    "    return input_data"
   ]
  },
  {
   "cell_type": "code",
   "execution_count": 25,
   "metadata": {},
   "outputs": [
    {
     "name": "stdout",
     "output_type": "stream",
     "text": [
      "nonsensitive_features:  {'adres_aantal_brp_adres': 1, 'adres_aantal_verschillende_wijken': 7, 'adres_aantal_verzendadres': 0, 'adres_aantal_woonadres_handmatig': 1, 'adres_recentst_onderdeel_rdam': 1, 'adres_unieke_wijk_ratio': 0, 'afspraak_aanmelding_afgesloten': 7, 'afspraak_afgelopen_jaar_afsprakenplan': 0, 'afspraak_afgelopen_jaar_ontheffing': 2, 'afspraak_afgelopen_jaar_plan_van_aanpak': 2, 'afspraak_afgelopen_jaar_signaal_voor_medewerker': 11, 'afspraak_afgelopen_jaar_vervolgmeting_matchbaarheid_werkzoekende_klant': 1, 'afspraak_afgelopen_jaar_voortgang_aanmelding_en_deelname': 5, 'afspraak_afsprakenplan': 3, 'afspraak_controle_aankondiging_maatregel': 3, 'afspraak_controle_verwijzing': 0, 'afspraak_deelname_compleet_uit_webapplicatie': 3, 'afspraak_galo_gesprek': 3, 'afspraak_gespr__einde_zoekt___galo_gesprek_': 2, 'afspraak_inspanningsperiode': 2, 'afspraak_laatstejaar_resultaat_ingevuld': 5, 'afspraak_laatstejaar_resultaat_ingevuld_uniek': 0, 'afspraak_other': 5, 'afspraak_participatietrede_vervolgmeting': 4, 'afspraak_resultaat_ingevuld_uniek': 6, 'afspraak_signaal_van_aanbieder': 7, 'afspraak_signaal_voor_medewerker': 4, 'afspraak_toevoegen_inschrijving_uwvwb': 1, 'afspraak_vervolgmeting_matchbaarheid_werkzoekende_klant': 0, 'afspraak_voortgangsgesprek': 0, 'belemmering_aantal_huidig': 0, 'belemmering_dagen_financiele_problemen': -5954, 'belemmering_financiele_problemen': 0, 'belemmering_hist_stabiele_mix__sz____dagbesteding_werk': 1, 'belemmering_ind': 0, 'belemmering_ind_hist': 1, 'belemmering_woonsituatie': 0, 'beschikbaarheid_aantal_historie_afwijkend_wegens_sociaal_maatschappelijke_situatie': 1, 'beschikbaarheid_huidig_bekend': 1, 'beschikbaarheid_recent_afwijkend_wegens_sociaal_maatschappelijke_situatie': 0, 'competentie_aansturen': 0, 'competentie_analyseren': 2, 'competentie_ethisch_en_integer_handelen': 1, 'competentie_formuleren_en_rapporteren': 0, 'competentie_gedrevenheid_en_ambitie_tonen': 0, 'competentie_instructies_en_procedures_opvolgen': 2, 'competentie_kwaliteit_leveren': 0, 'competentie_leren': 2, 'competentie_materialen_en_middelen_inzetten': 0, 'competentie_met_druk_en_tegenslag_omgaan': 1, 'competentie_omgaan_met_verandering_en_aanpassen': 2, 'competentie_onderzoeken': 2, 'competentie_op_de_behoeften_en_verwachtingen_van_de__klant__richten': 1, 'competentie_other': 9, 'competentie_overtuigen_en_beïnvloeden': 0, 'competentie_plannen_en_organiseren': 2, 'competentie_samenwerken_en_overleggen': 2, 'contacten_onderwerp__arbeids_motivatie': 2, 'contacten_onderwerp__pre__intake': 1, 'contacten_onderwerp__werk_intake': 0, 'contacten_onderwerp_arbeidsdiagnose_dariuz': 1, 'contacten_onderwerp_boolean__arbeids_motivatie': 1, 'contacten_onderwerp_boolean__pre__intake': 1, 'contacten_onderwerp_boolean__werk_intake': 0, 'contacten_onderwerp_boolean_contact_derden': 0, 'contacten_onderwerp_boolean_contact_met_aanbieder': 0, 'contacten_onderwerp_boolean_diagnosegesprek': 0, 'contacten_onderwerp_boolean_documenten__innemen_': 1, 'contacten_onderwerp_boolean_documenttype__cv_': 1, 'contacten_onderwerp_boolean_documenttype__diploma_s_en_certificaten_': 1, 'contacten_onderwerp_boolean_documenttype__overeenkomst_': 0, 'contacten_onderwerp_boolean_financiële_situatie': 1, 'contacten_onderwerp_boolean_groepsbijeenkomst': 1, 'contacten_onderwerp_boolean_inkomen': 1, 'contacten_onderwerp_boolean_maatregel_overweging': 1, 'contacten_onderwerp_boolean_match___werk': 1, 'contacten_onderwerp_boolean_matching': 0, 'contacten_onderwerp_boolean_motivatie': 1, 'contacten_onderwerp_boolean_mutatie': 0, 'contacten_onderwerp_boolean_no_show': 0, 'contacten_onderwerp_boolean_overige': 0, 'contacten_onderwerp_boolean_overleg_met_inkomen': 1, 'contacten_onderwerp_boolean_scholing': 0, 'contacten_onderwerp_boolean_sollicitatie': 0, 'contacten_onderwerp_boolean_terugbelverzoek': 1, 'contacten_onderwerp_boolean_traject': 0, 'contacten_onderwerp_boolean_uitnodiging': 1, 'contacten_onderwerp_contact_derden': 9, 'contacten_onderwerp_contact_met_aanbieder': 2, 'contacten_onderwerp_diagnosegesprek': 2, 'contacten_onderwerp_documenten__innemen_': 7, 'contacten_onderwerp_documenttype__cv_': 0, 'contacten_onderwerp_documenttype__overeenkomst_': 6, 'contacten_onderwerp_financiële_situatie': 3, 'contacten_onderwerp_groepsbijeenkomst': 2, 'contacten_onderwerp_inkomen': 4, 'contacten_onderwerp_inname_aanvraag': 2, 'contacten_onderwerp_inspanningstoets': 0, 'contacten_onderwerp_maatregel_overweging': 2, 'contacten_onderwerp_matching': 11, 'contacten_onderwerp_mutatie': 2, 'contacten_onderwerp_no_show': 1, 'contacten_onderwerp_overige': 28, 'contacten_onderwerp_overleg_met_inkomen': 4, 'contacten_onderwerp_quickscan': 2, 'contacten_onderwerp_scholing': 4, 'contacten_onderwerp_screening': 1, 'contacten_onderwerp_terugbelverzoek': 15, 'contacten_onderwerp_traject': 11, 'contacten_onderwerp_uitnodiging': 2, 'contacten_onderwerp_vakantie': 1, 'contacten_onderwerp_werkintake__niet_verschenen': 2, 'contacten_soort_afgelopenjaar_anders': 6, 'contacten_soort_afgelopenjaar_document__inkomend_': 6, 'contacten_soort_afgelopenjaar_document__uitgaand_': 17, 'contacten_soort_afgelopenjaar_e_mail__inkomend_': 1, 'contacten_soort_afgelopenjaar_e_mail__uitgaand_': 3, 'contacten_soort_afgelopenjaar_gesprek': 1, 'contacten_soort_afgelopenjaar_gesprek_op_locatie': 0, 'contacten_soort_afgelopenjaar_rapportage_rib': 3, 'contacten_soort_afgelopenjaar_telefoontje__inkomend_': 2, 'contacten_soort_afgelopenjaar_telefoontje__uitgaand_': 3, 'contacten_soort_anders': 12, 'contacten_soort_document__inkomend_': 26, 'contacten_soort_document__uitgaand_': 61, 'contacten_soort_e_mail__inkomend_': 20, 'contacten_soort_e_mail__uitgaand_': 14, 'contacten_soort_gesprek_op_locatie': 1, 'contacten_soort_groepsbijeenkomsten': 1, 'contacten_soort_rapportage_deelname': 8, 'contacten_soort_rapportage_rib': 2, 'contacten_soort_telefoontje__inkomend_': 0, 'contacten_soort_telefoontje__uitgaand_': 13, 'deelname_act_actueel_projecten_uniek': 4, 'deelname_act_hist_projecten_niet_gestart': 4, 'deelname_act_reintegratieladder_ondersteunende_instrumenten': 5, 'deelname_act_reintegratieladder_werk_re_integratie': 5, 'instrument_ladder_historie_activering': 11, 'instrument_ladder_historie_other': 3, 'instrument_ladder_huidig_activering': 1, 'instrument_ladder_huidig_other': 2, 'instrument_ladder_huidig_werk_re_integratie': 2, 'instrument_reden_beeindiging_historie_centrale_actie_wigo4it': 1, 'instrument_reden_beeindiging_historie_diagnose_gesteld': 0, 'instrument_reden_beeindiging_historie_direct_matchbaar': 1, 'instrument_reden_beeindiging_historie_doelstelling_bereikt__geen_uitstroom': 3, 'instrument_reden_beeindiging_historie_doelstelling_bereikt__uitstroom_naar_regulier_werk': 0, 'instrument_reden_beeindiging_historie_doelstelling_bereikt__uitstroom_overig': 0, 'instrument_reden_beeindiging_historie_doelstelling_niet_bereikt__geen_uitstroom': 5, 'instrument_reden_beeindiging_historie_niet_matchbaar': 0, 'instrument_reden_beeindiging_historie_niet_succesvol': 3, 'instrument_reden_beeindiging_historie_niet_succesvol__reden_bij_werkzoekende': 1, 'instrument_reden_beeindiging_historie_op_termijn_matchbaar': 0, 'instrument_reden_beeindiging_historie_other': 2, 'instrument_reden_beeindiging_historie_overdracht_naar_mo': 0, 'instrument_reden_beeindiging_historie_overdracht_naar_prematching': 1, 'instrument_reden_beeindiging_historie_overdracht_naar_regulier_team_iwpm': 0, 'instrument_reden_beeindiging_historie_overdracht_succesvol': 0, 'instrument_reden_beeindiging_historie_succesvol': 7, 'instrument_reden_beeindiging_historie_succesvol__doelstelling_bereikt': 0, 'instrument_reden_beeindiging_historie_uitval__aanbod_niet_langer_zinvol_volgens_gemeente': 1, 'instrument_reden_beeindiging_historie_uitval__klant_wz__ziet_af_van_aanbod': 2, 'ontheffing_actueel_ind': 1, 'ontheffing_dagen_hist_mean': 622, 'ontheffing_hist_ind': 1, 'ontheffing_reden_hist_other': 1, 'ontheffing_reden_hist_sociale_gronden': 0, 'ontheffing_reden_hist_tijdelijke_ontheffing_arbeidsverpl__en_tegenprestatie': 0, 'ontheffing_reden_hist_tijdelijke_ontheffing_arbeidsverplichtingen': 1, 'ontheffing_reden_hist_vanwege_uw_sociaal_maatschappelijke_situatie': 1, 'ontheffing_reden_tijdelijke_ontheffing_arbeidsverpl__en_tegenprestatie': 1, 'persoonlijke_eigenschappen_communicatie_opm': 1, 'persoonlijke_eigenschappen_dagen_sinds_opvoer': 34, 'persoonlijke_eigenschappen_doorzettingsvermogen_opm': 0, 'persoonlijke_eigenschappen_flexibiliteit_opm': 1, 'persoonlijke_eigenschappen_hobbies_sport': 0, 'persoonlijke_eigenschappen_houding_opm': 1, 'persoonlijke_eigenschappen_ind_activering_traject': 0, 'persoonlijke_eigenschappen_ind_buiten_kantoortijden': 0, 'persoonlijke_eigenschappen_ind_regulier_arbeidsritme': 0, 'persoonlijke_eigenschappen_initiatief_opm': 0, 'persoonlijke_eigenschappen_leergierigheid_opm': 1, 'persoonlijke_eigenschappen_motivatie_opm': 0, 'persoonlijke_eigenschappen_opstelling': 0, 'persoonlijke_eigenschappen_overige_opmerkingen': 1, 'persoonlijke_eigenschappen_presentatie_opm': 0, 'persoonlijke_eigenschappen_uiterlijke_verzorging_opm': 0, 'persoonlijke_eigenschappen_uitstroom_verw_vlgs_klant': 3, 'persoonlijke_eigenschappen_uitstroom_verw_vlgs_km': 4, 'persoonlijke_eigenschappen_zelfstandigheid_opm': 1, 'pla_actueel_pla_categorie_doelstelling_16': 2, 'pla_actueel_pla_categorie_doelstelling_9': 1, 'pla_einde_doelstelling_bereikt': 2, 'pla_einde_doelstelling_bereikt__nieuw_trajectplan': 5, 'pla_einde_doelstelling_bereikt__overdracht': 2, 'pla_einde_doelstelling_niet_bereikt': 1, 'pla_einde_doelstelling_niet_bereikt__nieuw_trajectplan': 2, 'pla_einde_doelstelling_niet_bereikt__overdracht': 1, 'pla_einde_geplande_einddatum_overschreden_zonder_nader_bericht': 0, 'pla_einde_other': 2, 'pla_einde_uitstroom_anders_dan_volgen_onderwijs__regulier_werk_of_als_zelfstandige': 2, 'pla_hist_pla_categorie_doelstelling_1': 4, 'pla_hist_pla_categorie_doelstelling_10': 2, 'pla_hist_pla_categorie_doelstelling_11': 2, 'pla_hist_pla_categorie_doelstelling_16': 3, 'pla_hist_pla_categorie_doelstelling_2': 0, 'pla_hist_pla_categorie_doelstelling_27': 0, 'pla_hist_pla_categorie_doelstelling_3': 2, 'pla_hist_pla_categorie_doelstelling_4': 1, 'pla_hist_pla_categorie_doelstelling_5': 0, 'pla_hist_pla_categorie_doelstelling_6': 0, 'pla_hist_pla_categorie_doelstelling_9': 2, 'pla_hist_pla_categorie_doelstelling_other': 1, 'pla_historie_maatschappelijke_inspanning': 1, 'pla_historie_ontwikkeling': 1, 'pla_historie_other': 1, 'pla_historie_werk': 0, 'pla_historie_werk_en_inburgering': 0, 'pla_ondertekeningen_actueel': 2, 'pla_ondertekeningen_historie': 3, 'relatie_kind_leeftijd_verschil_ouder_eerste_kind': 13, 'relatie_overig_actueel_vorm__gemachtigde': 2, 'relatie_overig_actueel_vorm__onderhoudsplichtige': 2, 'relatie_overig_actueel_vorm_other': 1, 'relatie_overig_bewindvoerder': 1, 'relatie_overig_historie_vorm__gemachtigde': 3, 'relatie_overig_historie_vorm__onderhoudsplichtige': 0, 'typering_aantal': 1, 'typering_dagen_som': 1754, 'typering_hist_aantal': 5, 'typering_hist_inburgeringsbehoeftig': 1, 'typering_hist_ind': 0, 'typering_hist_sector_zorg': 1, 'typering_ind': 1, 'typering_indicatie_geheime_gegevens': 1, 'typering_other': 2, 'typering_transport__logistiek___tuinbouw': 0, 'typering_zorg__schoonmaak___welzijn': 1}\n",
      "highest suspicion:  0.5099999904632568\n",
      "most suspect individual sensitive values:  {'adres_dagen_op_adres': 8162, 'adres_recentste_buurt_groot_ijsselmonde': 1, 'adres_recentste_buurt_nieuwe_westen': 0, 'adres_recentste_buurt_other': 0, 'adres_recentste_buurt_oude_noorden': 1, 'adres_recentste_buurt_vreewijk': 0, 'adres_recentste_plaats_other': 1, 'adres_recentste_plaats_rotterdam': 0, 'adres_recentste_wijk_charlois': 1, 'adres_recentste_wijk_delfshaven': 1, 'adres_recentste_wijk_feijenoord': 0, 'adres_recentste_wijk_ijsselmonde': 1, 'adres_recentste_wijk_kralingen_c': 1, 'adres_recentste_wijk_noord': 1, 'adres_recentste_wijk_other': 1, 'adres_recentste_wijk_prins_alexa': 1, 'adres_recentste_wijk_stadscentru': 1, 'afspraak_aantal_woorden': 461, 'afspraak_afgelopen_jaar_monitoring_insp__wet_taaleis_na_12_mnd_n_a_v__taa04_____geen_maatregel': 0, 'afspraak_afgelopen_jaar_ontheffing_taaleis': 0, 'afspraak_laatstejaar_aantal_woorden': 10, 'afspraak_verzenden_beschikking_i_v_m__niet_voldoen_aan_wet_taaleis': 0, 'belemmering_dagen_lichamelijke_problematiek': 12334, 'belemmering_dagen_psychische_problemen': -17359, 'belemmering_hist_lichamelijke_problematiek': 3, 'belemmering_hist_psychische_problemen': 3, 'belemmering_hist_taal': 0, 'belemmering_hist_verslavingsproblematiek': 1, 'belemmering_niet_computervaardig': 1, 'belemmering_psychische_problemen': 0, 'beschikbaarheid_aantal_historie_afwijkend_wegens_medische_omstandigheden': 1, 'beschikbaarheid_huidig_afwijkend_wegens_medische_omstandigheden': 0, 'beschikbaarheid_recent_afwijkend_wegens_medische_omstandigheden': 1, 'competentie_vakdeskundigheid_toepassen': 2, 'contacten_onderwerp_beoordelen_taaleis': 4, 'contacten_onderwerp_boolean_beoordelen_taaleis': 0, 'contacten_onderwerp_boolean_taaleis___voldoet': 1, 'contacten_onderwerp_boolean_ziek__of_afmelding': 0, 'contacten_onderwerp_boolean_zorg': 0, 'contacten_onderwerp_ziek__of_afmelding': 1, 'contacten_onderwerp_zorg': 4, 'instrument_aantal_laatstejaar': 5, 'ontheffing_dagen_hist_vanwege_uw_medische_omstandigheden': 3569, 'ontheffing_reden_hist_medische_gronden': 0, 'persoon_geslacht_vrouw': 0, 'persoon_leeftijd_bij_onderzoek': 42, 'persoonlijke_eigenschappen_dagen_sinds_taaleis': 1311, 'persoonlijke_eigenschappen_nl_begrijpen3': 0, 'persoonlijke_eigenschappen_nl_lezen3': 0, 'persoonlijke_eigenschappen_nl_lezen4': 1, 'persoonlijke_eigenschappen_nl_schrijven0': 0, 'persoonlijke_eigenschappen_nl_schrijven1': 0, 'persoonlijke_eigenschappen_nl_schrijven2': 1, 'persoonlijke_eigenschappen_nl_schrijven3': 1, 'persoonlijke_eigenschappen_nl_schrijvenfalse': 0, 'persoonlijke_eigenschappen_nl_spreken1': 0, 'persoonlijke_eigenschappen_nl_spreken2': 0, 'persoonlijke_eigenschappen_nl_spreken3': 0, 'persoonlijke_eigenschappen_spreektaal': 96, 'persoonlijke_eigenschappen_spreektaal_anders': 1, 'persoonlijke_eigenschappen_taaleis_schrijfv_ok': 1, 'persoonlijke_eigenschappen_taaleis_voldaan': 2, 'relatie_kind_basisschool_kind': 0, 'relatie_kind_heeft_kinderen': 1, 'relatie_kind_huidige_aantal': 4, 'relatie_kind_jongvolwassen': 2, 'relatie_kind_tiener': 0, 'relatie_kind_volwassen': 1, 'relatie_overig_actueel_vorm__kostendeler': 0, 'relatie_overig_actueel_vorm__ouders_verzorgers': 0, 'relatie_overig_historie_vorm__andere_inwonende': 2, 'relatie_overig_historie_vorm__kostendeler': 3, 'relatie_overig_kostendeler': 0, 'relatie_partner_aantal_partner___partner__gehuwd_': 1, 'relatie_partner_aantal_partner___partner__ongehuwd_': 1, 'relatie_partner_huidige_partner___partner__gehuwd_': 1, 'relatie_partner_totaal_dagen_partner': 4226}\n"
     ]
    }
   ],
   "source": [
    "def highly_suspect(individual:Individual):\n",
    "    output_name = sess.get_outputs()[1].name\n",
    "    value = individual.fullfeatures()\n",
    "    value = build_input_data(sess, value)\n",
    "    result = sess.run([output_name], value)[0]\n",
    "    #print(result[0][0], end=\" \")\n",
    "    return result[0][0]\n",
    "\n",
    "population = initialize_population(1000, nonsensitives_experiment)\n",
    "for steps in range(1):\n",
    "    #print(steps, \":\")\n",
    "    survivors = selection(population, highly_suspect)\n",
    "    children = crossover(survivors, 0.9)\n",
    "    population = mutation(children)\n",
    "    #print()\n",
    "    \n",
    "    \n",
    "most_suspicious = None\n",
    "highest_suspicion = -1\n",
    "for individual in population:\n",
    "    suspicion_score = highly_suspect(individual)\n",
    "    if suspicion_score > highest_suspicion:\n",
    "        most_suspicious = individual\n",
    "        highest_suspicion = suspicion_score\n",
    "print(\"nonsensitive_features: \", nonsensitives_experiment)\n",
    "print(\"highest suspicion: \",highest_suspicion)\n",
    "print(\"most suspect individual sensitive values: \",most_suspicious.sensitives)"
   ]
  },
  {
   "cell_type": "code",
   "execution_count": 24,
   "metadata": {},
   "outputs": [
    {
     "name": "stdout",
     "output_type": "stream",
     "text": [
      "nonsensitive_features:  {'adres_aantal_brp_adres': 1, 'adres_aantal_verschillende_wijken': 7, 'adres_aantal_verzendadres': 0, 'adres_aantal_woonadres_handmatig': 1, 'adres_recentst_onderdeel_rdam': 1, 'adres_unieke_wijk_ratio': 0, 'afspraak_aanmelding_afgesloten': 7, 'afspraak_afgelopen_jaar_afsprakenplan': 0, 'afspraak_afgelopen_jaar_ontheffing': 2, 'afspraak_afgelopen_jaar_plan_van_aanpak': 2, 'afspraak_afgelopen_jaar_signaal_voor_medewerker': 11, 'afspraak_afgelopen_jaar_vervolgmeting_matchbaarheid_werkzoekende_klant': 1, 'afspraak_afgelopen_jaar_voortgang_aanmelding_en_deelname': 5, 'afspraak_afsprakenplan': 3, 'afspraak_controle_aankondiging_maatregel': 3, 'afspraak_controle_verwijzing': 0, 'afspraak_deelname_compleet_uit_webapplicatie': 3, 'afspraak_galo_gesprek': 3, 'afspraak_gespr__einde_zoekt___galo_gesprek_': 2, 'afspraak_inspanningsperiode': 2, 'afspraak_laatstejaar_resultaat_ingevuld': 5, 'afspraak_laatstejaar_resultaat_ingevuld_uniek': 0, 'afspraak_other': 5, 'afspraak_participatietrede_vervolgmeting': 4, 'afspraak_resultaat_ingevuld_uniek': 6, 'afspraak_signaal_van_aanbieder': 7, 'afspraak_signaal_voor_medewerker': 4, 'afspraak_toevoegen_inschrijving_uwvwb': 1, 'afspraak_vervolgmeting_matchbaarheid_werkzoekende_klant': 0, 'afspraak_voortgangsgesprek': 0, 'belemmering_aantal_huidig': 0, 'belemmering_dagen_financiele_problemen': -5954, 'belemmering_financiele_problemen': 0, 'belemmering_hist_stabiele_mix__sz____dagbesteding_werk': 1, 'belemmering_ind': 0, 'belemmering_ind_hist': 1, 'belemmering_woonsituatie': 0, 'beschikbaarheid_aantal_historie_afwijkend_wegens_sociaal_maatschappelijke_situatie': 1, 'beschikbaarheid_huidig_bekend': 1, 'beschikbaarheid_recent_afwijkend_wegens_sociaal_maatschappelijke_situatie': 0, 'competentie_aansturen': 0, 'competentie_analyseren': 2, 'competentie_ethisch_en_integer_handelen': 1, 'competentie_formuleren_en_rapporteren': 0, 'competentie_gedrevenheid_en_ambitie_tonen': 0, 'competentie_instructies_en_procedures_opvolgen': 2, 'competentie_kwaliteit_leveren': 0, 'competentie_leren': 2, 'competentie_materialen_en_middelen_inzetten': 0, 'competentie_met_druk_en_tegenslag_omgaan': 1, 'competentie_omgaan_met_verandering_en_aanpassen': 2, 'competentie_onderzoeken': 2, 'competentie_op_de_behoeften_en_verwachtingen_van_de__klant__richten': 1, 'competentie_other': 9, 'competentie_overtuigen_en_beïnvloeden': 0, 'competentie_plannen_en_organiseren': 2, 'competentie_samenwerken_en_overleggen': 2, 'contacten_onderwerp__arbeids_motivatie': 2, 'contacten_onderwerp__pre__intake': 1, 'contacten_onderwerp__werk_intake': 0, 'contacten_onderwerp_arbeidsdiagnose_dariuz': 1, 'contacten_onderwerp_boolean__arbeids_motivatie': 1, 'contacten_onderwerp_boolean__pre__intake': 1, 'contacten_onderwerp_boolean__werk_intake': 0, 'contacten_onderwerp_boolean_contact_derden': 0, 'contacten_onderwerp_boolean_contact_met_aanbieder': 0, 'contacten_onderwerp_boolean_diagnosegesprek': 0, 'contacten_onderwerp_boolean_documenten__innemen_': 1, 'contacten_onderwerp_boolean_documenttype__cv_': 1, 'contacten_onderwerp_boolean_documenttype__diploma_s_en_certificaten_': 1, 'contacten_onderwerp_boolean_documenttype__overeenkomst_': 0, 'contacten_onderwerp_boolean_financiële_situatie': 1, 'contacten_onderwerp_boolean_groepsbijeenkomst': 1, 'contacten_onderwerp_boolean_inkomen': 1, 'contacten_onderwerp_boolean_maatregel_overweging': 1, 'contacten_onderwerp_boolean_match___werk': 1, 'contacten_onderwerp_boolean_matching': 0, 'contacten_onderwerp_boolean_motivatie': 1, 'contacten_onderwerp_boolean_mutatie': 0, 'contacten_onderwerp_boolean_no_show': 0, 'contacten_onderwerp_boolean_overige': 0, 'contacten_onderwerp_boolean_overleg_met_inkomen': 1, 'contacten_onderwerp_boolean_scholing': 0, 'contacten_onderwerp_boolean_sollicitatie': 0, 'contacten_onderwerp_boolean_terugbelverzoek': 1, 'contacten_onderwerp_boolean_traject': 0, 'contacten_onderwerp_boolean_uitnodiging': 1, 'contacten_onderwerp_contact_derden': 9, 'contacten_onderwerp_contact_met_aanbieder': 2, 'contacten_onderwerp_diagnosegesprek': 2, 'contacten_onderwerp_documenten__innemen_': 7, 'contacten_onderwerp_documenttype__cv_': 0, 'contacten_onderwerp_documenttype__overeenkomst_': 6, 'contacten_onderwerp_financiële_situatie': 3, 'contacten_onderwerp_groepsbijeenkomst': 2, 'contacten_onderwerp_inkomen': 4, 'contacten_onderwerp_inname_aanvraag': 2, 'contacten_onderwerp_inspanningstoets': 0, 'contacten_onderwerp_maatregel_overweging': 2, 'contacten_onderwerp_matching': 11, 'contacten_onderwerp_mutatie': 2, 'contacten_onderwerp_no_show': 1, 'contacten_onderwerp_overige': 28, 'contacten_onderwerp_overleg_met_inkomen': 4, 'contacten_onderwerp_quickscan': 2, 'contacten_onderwerp_scholing': 4, 'contacten_onderwerp_screening': 1, 'contacten_onderwerp_terugbelverzoek': 15, 'contacten_onderwerp_traject': 11, 'contacten_onderwerp_uitnodiging': 2, 'contacten_onderwerp_vakantie': 1, 'contacten_onderwerp_werkintake__niet_verschenen': 2, 'contacten_soort_afgelopenjaar_anders': 6, 'contacten_soort_afgelopenjaar_document__inkomend_': 6, 'contacten_soort_afgelopenjaar_document__uitgaand_': 17, 'contacten_soort_afgelopenjaar_e_mail__inkomend_': 1, 'contacten_soort_afgelopenjaar_e_mail__uitgaand_': 3, 'contacten_soort_afgelopenjaar_gesprek': 1, 'contacten_soort_afgelopenjaar_gesprek_op_locatie': 0, 'contacten_soort_afgelopenjaar_rapportage_rib': 3, 'contacten_soort_afgelopenjaar_telefoontje__inkomend_': 2, 'contacten_soort_afgelopenjaar_telefoontje__uitgaand_': 3, 'contacten_soort_anders': 12, 'contacten_soort_document__inkomend_': 26, 'contacten_soort_document__uitgaand_': 61, 'contacten_soort_e_mail__inkomend_': 20, 'contacten_soort_e_mail__uitgaand_': 14, 'contacten_soort_gesprek_op_locatie': 1, 'contacten_soort_groepsbijeenkomsten': 1, 'contacten_soort_rapportage_deelname': 8, 'contacten_soort_rapportage_rib': 2, 'contacten_soort_telefoontje__inkomend_': 0, 'contacten_soort_telefoontje__uitgaand_': 13, 'deelname_act_actueel_projecten_uniek': 4, 'deelname_act_hist_projecten_niet_gestart': 4, 'deelname_act_reintegratieladder_ondersteunende_instrumenten': 5, 'deelname_act_reintegratieladder_werk_re_integratie': 5, 'instrument_ladder_historie_activering': 11, 'instrument_ladder_historie_other': 3, 'instrument_ladder_huidig_activering': 1, 'instrument_ladder_huidig_other': 2, 'instrument_ladder_huidig_werk_re_integratie': 2, 'instrument_reden_beeindiging_historie_centrale_actie_wigo4it': 1, 'instrument_reden_beeindiging_historie_diagnose_gesteld': 0, 'instrument_reden_beeindiging_historie_direct_matchbaar': 1, 'instrument_reden_beeindiging_historie_doelstelling_bereikt__geen_uitstroom': 3, 'instrument_reden_beeindiging_historie_doelstelling_bereikt__uitstroom_naar_regulier_werk': 0, 'instrument_reden_beeindiging_historie_doelstelling_bereikt__uitstroom_overig': 0, 'instrument_reden_beeindiging_historie_doelstelling_niet_bereikt__geen_uitstroom': 5, 'instrument_reden_beeindiging_historie_niet_matchbaar': 0, 'instrument_reden_beeindiging_historie_niet_succesvol': 3, 'instrument_reden_beeindiging_historie_niet_succesvol__reden_bij_werkzoekende': 1, 'instrument_reden_beeindiging_historie_op_termijn_matchbaar': 0, 'instrument_reden_beeindiging_historie_other': 2, 'instrument_reden_beeindiging_historie_overdracht_naar_mo': 0, 'instrument_reden_beeindiging_historie_overdracht_naar_prematching': 1, 'instrument_reden_beeindiging_historie_overdracht_naar_regulier_team_iwpm': 0, 'instrument_reden_beeindiging_historie_overdracht_succesvol': 0, 'instrument_reden_beeindiging_historie_succesvol': 7, 'instrument_reden_beeindiging_historie_succesvol__doelstelling_bereikt': 0, 'instrument_reden_beeindiging_historie_uitval__aanbod_niet_langer_zinvol_volgens_gemeente': 1, 'instrument_reden_beeindiging_historie_uitval__klant_wz__ziet_af_van_aanbod': 2, 'ontheffing_actueel_ind': 1, 'ontheffing_dagen_hist_mean': 622, 'ontheffing_hist_ind': 1, 'ontheffing_reden_hist_other': 1, 'ontheffing_reden_hist_sociale_gronden': 0, 'ontheffing_reden_hist_tijdelijke_ontheffing_arbeidsverpl__en_tegenprestatie': 0, 'ontheffing_reden_hist_tijdelijke_ontheffing_arbeidsverplichtingen': 1, 'ontheffing_reden_hist_vanwege_uw_sociaal_maatschappelijke_situatie': 1, 'ontheffing_reden_tijdelijke_ontheffing_arbeidsverpl__en_tegenprestatie': 1, 'persoonlijke_eigenschappen_communicatie_opm': 1, 'persoonlijke_eigenschappen_dagen_sinds_opvoer': 34, 'persoonlijke_eigenschappen_doorzettingsvermogen_opm': 0, 'persoonlijke_eigenschappen_flexibiliteit_opm': 1, 'persoonlijke_eigenschappen_hobbies_sport': 0, 'persoonlijke_eigenschappen_houding_opm': 1, 'persoonlijke_eigenschappen_ind_activering_traject': 0, 'persoonlijke_eigenschappen_ind_buiten_kantoortijden': 0, 'persoonlijke_eigenschappen_ind_regulier_arbeidsritme': 0, 'persoonlijke_eigenschappen_initiatief_opm': 0, 'persoonlijke_eigenschappen_leergierigheid_opm': 1, 'persoonlijke_eigenschappen_motivatie_opm': 0, 'persoonlijke_eigenschappen_opstelling': 0, 'persoonlijke_eigenschappen_overige_opmerkingen': 1, 'persoonlijke_eigenschappen_presentatie_opm': 0, 'persoonlijke_eigenschappen_uiterlijke_verzorging_opm': 0, 'persoonlijke_eigenschappen_uitstroom_verw_vlgs_klant': 3, 'persoonlijke_eigenschappen_uitstroom_verw_vlgs_km': 4, 'persoonlijke_eigenschappen_zelfstandigheid_opm': 1, 'pla_actueel_pla_categorie_doelstelling_16': 2, 'pla_actueel_pla_categorie_doelstelling_9': 1, 'pla_einde_doelstelling_bereikt': 2, 'pla_einde_doelstelling_bereikt__nieuw_trajectplan': 5, 'pla_einde_doelstelling_bereikt__overdracht': 2, 'pla_einde_doelstelling_niet_bereikt': 1, 'pla_einde_doelstelling_niet_bereikt__nieuw_trajectplan': 2, 'pla_einde_doelstelling_niet_bereikt__overdracht': 1, 'pla_einde_geplande_einddatum_overschreden_zonder_nader_bericht': 0, 'pla_einde_other': 2, 'pla_einde_uitstroom_anders_dan_volgen_onderwijs__regulier_werk_of_als_zelfstandige': 2, 'pla_hist_pla_categorie_doelstelling_1': 4, 'pla_hist_pla_categorie_doelstelling_10': 2, 'pla_hist_pla_categorie_doelstelling_11': 2, 'pla_hist_pla_categorie_doelstelling_16': 3, 'pla_hist_pla_categorie_doelstelling_2': 0, 'pla_hist_pla_categorie_doelstelling_27': 0, 'pla_hist_pla_categorie_doelstelling_3': 2, 'pla_hist_pla_categorie_doelstelling_4': 1, 'pla_hist_pla_categorie_doelstelling_5': 0, 'pla_hist_pla_categorie_doelstelling_6': 0, 'pla_hist_pla_categorie_doelstelling_9': 2, 'pla_hist_pla_categorie_doelstelling_other': 1, 'pla_historie_maatschappelijke_inspanning': 1, 'pla_historie_ontwikkeling': 1, 'pla_historie_other': 1, 'pla_historie_werk': 0, 'pla_historie_werk_en_inburgering': 0, 'pla_ondertekeningen_actueel': 2, 'pla_ondertekeningen_historie': 3, 'relatie_kind_leeftijd_verschil_ouder_eerste_kind': 13, 'relatie_overig_actueel_vorm__gemachtigde': 2, 'relatie_overig_actueel_vorm__onderhoudsplichtige': 2, 'relatie_overig_actueel_vorm_other': 1, 'relatie_overig_bewindvoerder': 1, 'relatie_overig_historie_vorm__gemachtigde': 3, 'relatie_overig_historie_vorm__onderhoudsplichtige': 0, 'typering_aantal': 1, 'typering_dagen_som': 1754, 'typering_hist_aantal': 5, 'typering_hist_inburgeringsbehoeftig': 1, 'typering_hist_ind': 0, 'typering_hist_sector_zorg': 1, 'typering_ind': 1, 'typering_indicatie_geheime_gegevens': 1, 'typering_other': 2, 'typering_transport__logistiek___tuinbouw': 0, 'typering_zorg__schoonmaak___welzijn': 1}\n",
      "lowest suspicion:  0.5099999904632568\n",
      "most suspect individual sensitive values:  {'adres_dagen_op_adres': 15890, 'adres_recentste_buurt_groot_ijsselmonde': 1, 'adres_recentste_buurt_nieuwe_westen': 1, 'adres_recentste_buurt_other': 1, 'adres_recentste_buurt_oude_noorden': 1, 'adres_recentste_buurt_vreewijk': 0, 'adres_recentste_plaats_other': 1, 'adres_recentste_plaats_rotterdam': 0, 'adres_recentste_wijk_charlois': 1, 'adres_recentste_wijk_delfshaven': 1, 'adres_recentste_wijk_feijenoord': 1, 'adres_recentste_wijk_ijsselmonde': 0, 'adres_recentste_wijk_kralingen_c': 1, 'adres_recentste_wijk_noord': 1, 'adres_recentste_wijk_other': 1, 'adres_recentste_wijk_prins_alexa': 0, 'adres_recentste_wijk_stadscentru': 0, 'afspraak_aantal_woorden': 734, 'afspraak_afgelopen_jaar_monitoring_insp__wet_taaleis_na_12_mnd_n_a_v__taa04_____geen_maatregel': 1, 'afspraak_afgelopen_jaar_ontheffing_taaleis': 0, 'afspraak_laatstejaar_aantal_woorden': 192, 'afspraak_verzenden_beschikking_i_v_m__niet_voldoen_aan_wet_taaleis': 1, 'belemmering_dagen_lichamelijke_problematiek': -7409, 'belemmering_dagen_psychische_problemen': -17064, 'belemmering_hist_lichamelijke_problematiek': 1, 'belemmering_hist_psychische_problemen': 0, 'belemmering_hist_taal': 1, 'belemmering_hist_verslavingsproblematiek': 0, 'belemmering_niet_computervaardig': 1, 'belemmering_psychische_problemen': 0, 'beschikbaarheid_aantal_historie_afwijkend_wegens_medische_omstandigheden': 4, 'beschikbaarheid_huidig_afwijkend_wegens_medische_omstandigheden': 1, 'beschikbaarheid_recent_afwijkend_wegens_medische_omstandigheden': 1, 'competentie_vakdeskundigheid_toepassen': 2, 'contacten_onderwerp_beoordelen_taaleis': 1, 'contacten_onderwerp_boolean_beoordelen_taaleis': 0, 'contacten_onderwerp_boolean_taaleis___voldoet': 0, 'contacten_onderwerp_boolean_ziek__of_afmelding': 1, 'contacten_onderwerp_boolean_zorg': 0, 'contacten_onderwerp_ziek__of_afmelding': 6, 'contacten_onderwerp_zorg': 5, 'instrument_aantal_laatstejaar': 4, 'ontheffing_dagen_hist_vanwege_uw_medische_omstandigheden': 2364, 'ontheffing_reden_hist_medische_gronden': 3, 'persoon_geslacht_vrouw': 0, 'persoon_leeftijd_bij_onderzoek': 32, 'persoonlijke_eigenschappen_dagen_sinds_taaleis': 1029, 'persoonlijke_eigenschappen_nl_begrijpen3': 1, 'persoonlijke_eigenschappen_nl_lezen3': 1, 'persoonlijke_eigenschappen_nl_lezen4': 1, 'persoonlijke_eigenschappen_nl_schrijven0': 1, 'persoonlijke_eigenschappen_nl_schrijven1': 0, 'persoonlijke_eigenschappen_nl_schrijven2': 1, 'persoonlijke_eigenschappen_nl_schrijven3': 0, 'persoonlijke_eigenschappen_nl_schrijvenfalse': 1, 'persoonlijke_eigenschappen_nl_spreken1': 0, 'persoonlijke_eigenschappen_nl_spreken2': 1, 'persoonlijke_eigenschappen_nl_spreken3': 0, 'persoonlijke_eigenschappen_spreektaal': 19, 'persoonlijke_eigenschappen_spreektaal_anders': 0, 'persoonlijke_eigenschappen_taaleis_schrijfv_ok': 1, 'persoonlijke_eigenschappen_taaleis_voldaan': 1, 'relatie_kind_basisschool_kind': 1, 'relatie_kind_heeft_kinderen': 0, 'relatie_kind_huidige_aantal': 5, 'relatie_kind_jongvolwassen': 0, 'relatie_kind_tiener': 1, 'relatie_kind_volwassen': 0, 'relatie_overig_actueel_vorm__kostendeler': 5, 'relatie_overig_actueel_vorm__ouders_verzorgers': 1, 'relatie_overig_historie_vorm__andere_inwonende': 2, 'relatie_overig_historie_vorm__kostendeler': 3, 'relatie_overig_kostendeler': 1, 'relatie_partner_aantal_partner___partner__gehuwd_': 0, 'relatie_partner_aantal_partner___partner__ongehuwd_': 1, 'relatie_partner_huidige_partner___partner__gehuwd_': 1, 'relatie_partner_totaal_dagen_partner': 754}\n"
     ]
    }
   ],
   "source": [
    "def lowly_suspect(individual:Individual):\n",
    "    output_name = sess.get_outputs()[1].name\n",
    "    value = individual.fullfeatures()\n",
    "    value = build_input_data(sess, value)\n",
    "    result = sess.run(None, value)[0]\n",
    "    return -result[0]\n",
    "\n",
    "population = initialize_population(1000, nonsensitives_experiment)\n",
    "for steps in range(1):\n",
    "    survivors = selection(population, lowly_suspect)\n",
    "    children = crossover(survivors, 0.9)\n",
    "    population = mutation(children)\n",
    "    \n",
    "most_suspicious = None\n",
    "lowest_suspicion = 2\n",
    "for individual in population:\n",
    "    suspicion_score = highly_suspect(individual)\n",
    "    if suspicion_score < lowest_suspicion:\n",
    "        most_suspicious = individual\n",
    "        lowest_suspicion = suspicion_score\n",
    "print(\"nonsensitive_features: \", nonsensitives_experiment)\n",
    "print(\"lowest suspicion: \",lowest_suspicion)\n",
    "print(\"most suspect individual sensitive values: \",most_suspicious.sensitives)"
   ]
  }
 ],
 "metadata": {
  "kernelspec": {
   "display_name": "standard-ml",
   "language": "python",
   "name": "python3"
  },
  "language_info": {
   "codemirror_mode": {
    "name": "ipython",
    "version": 3
   },
   "file_extension": ".py",
   "mimetype": "text/x-python",
   "name": "python",
   "nbconvert_exporter": "python",
   "pygments_lexer": "ipython3",
   "version": "3.12.7"
  }
 },
 "nbformat": 4,
 "nbformat_minor": 2
}
